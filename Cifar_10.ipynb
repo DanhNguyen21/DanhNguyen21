{
  "nbformat": 4,
  "nbformat_minor": 0,
  "metadata": {
    "colab": {
      "name": "Cifar_10.ipynb",
      "provenance": [],
      "collapsed_sections": [],
      "include_colab_link": true
    },
    "kernelspec": {
      "name": "python3",
      "display_name": "Python 3"
    },
    "language_info": {
      "name": "python"
    }
  },
  "cells": [
    {
      "cell_type": "markdown",
      "metadata": {
        "id": "view-in-github",
        "colab_type": "text"
      },
      "source": [
        "<a href=\"https://colab.research.google.com/github/DanhNguyen21/DanhNguyen21/blob/main/Cifar_10.ipynb\" target=\"_parent\"><img src=\"https://colab.research.google.com/assets/colab-badge.svg\" alt=\"Open In Colab\"/></a>"
      ]
    },
    {
      "cell_type": "code",
      "execution_count": 1,
      "metadata": {
        "id": "5s4Lj2SqnQdY"
      },
      "outputs": [],
      "source": [
        "#import thư viện\n",
        "import numpy as np #thư viện xử lý ma trận\n",
        "from keras.utils import np_utils # thư viện xử lý chuyển class\n",
        "from keras.datasets import cifar10 # gọi tập dataset động vật, máy bay \n",
        "from keras.models import Sequential # hàm chạy mô hình\n",
        "from keras.layers import Dense, Dropout # tạo mạng nơ ron\n",
        "from tensorflow.keras.optimizers import RMSprop \n",
        "import matplotlib.pyplot as plt  # thư viện dùng để vẽ\n",
        "from keras.backend import dropout"
      ]
    },
    {
      "cell_type": "code",
      "source": [
        "# chia tập dữ liệu thành 2 bộ train và test\n",
        "(x_train, y_train),(x_test,y_test) = cifar10.load_data()"
      ],
      "metadata": {
        "id": "KDE1I3B8c_3X",
        "colab": {
          "base_uri": "https://localhost:8080/"
        },
        "outputId": "95a9881d-22a4-4691-cb61-40360374c819"
      },
      "execution_count": 2,
      "outputs": [
        {
          "output_type": "stream",
          "name": "stdout",
          "text": [
            "Downloading data from https://www.cs.toronto.edu/~kriz/cifar-10-python.tar.gz\n",
            "170500096/170498071 [==============================] - 2s 0us/step\n",
            "170508288/170498071 [==============================] - 2s 0us/step\n"
          ]
        }
      ]
    },
    {
      "cell_type": "code",
      "source": [
        "# xem kích thược của tập dữ liệu\n",
        "print('Kích thước x_train: ', x_train.shape)\n",
        "print('Kích thước y_train: ', y_train.shape)\n",
        "print('Kích thước x_test: ', x_test.shape)\n",
        "print('Kích thước y_test: ', y_test.shape)"
      ],
      "metadata": {
        "colab": {
          "base_uri": "https://localhost:8080/"
        },
        "id": "6Sg4o3R-n787",
        "outputId": "1ac2637d-2d08-47fb-c79d-35211ebc7e26"
      },
      "execution_count": 3,
      "outputs": [
        {
          "output_type": "stream",
          "name": "stdout",
          "text": [
            "Kích thước x_train:  (50000, 32, 32, 3)\n",
            "Kích thước y_train:  (50000, 1)\n",
            "Kích thước x_test:  (10000, 32, 32, 3)\n",
            "Kích thước y_test:  (10000, 1)\n"
          ]
        }
      ]
    },
    {
      "cell_type": "code",
      "source": [
        "#chuyển chiều của x từ 3 chiều về 2 chiều VÌ cifar10 ở đầu vào có 4 chiều để chuyển về\n",
        "# 2 chiều bằng cách 32*32*3=3072\n",
        "x_train = x_train.reshape(50000,3072)\n",
        "x_test = x_test.reshape(10000,3072)\n",
        "# ép kiểu\n",
        "x_train = x_train.astype('float32')\n",
        "x_test = x_test.astype('float32')\n",
        "#chuẩn hóa dữ liệu\n",
        "x_train /=255\n",
        "x_test /=255\n",
        "#chuyển y từ 1 class thành 10 class\n",
        "y_train = np_utils.to_categorical(y_train,10)\n",
        "y_test = np_utils.to_categorical(y_test,10)"
      ],
      "metadata": {
        "id": "m2piqLiGn-Au"
      },
      "execution_count": 4,
      "outputs": []
    },
    {
      "cell_type": "code",
      "source": [
        "#tạo mạng nơ-ron\n",
        "model = Sequential()\n",
        "model.add(Dense(512,activation='relu',input_shape=(3072,)))\n",
        "model.add(Dropout(0.2))\n",
        "model.add(Dense(512,activation='relu'))\n",
        "model.add(Dropout(0.2))\n",
        "model.add(Dense(10,activation='softmax'))\n",
        "\n",
        "model.summary()"
      ],
      "metadata": {
        "colab": {
          "base_uri": "https://localhost:8080/"
        },
        "id": "hOFBLXnFoLf_",
        "outputId": "bd88a778-b52e-4d94-9ec2-755358607395"
      },
      "execution_count": 5,
      "outputs": [
        {
          "output_type": "stream",
          "name": "stdout",
          "text": [
            "Model: \"sequential\"\n",
            "_________________________________________________________________\n",
            " Layer (type)                Output Shape              Param #   \n",
            "=================================================================\n",
            " dense (Dense)               (None, 512)               1573376   \n",
            "                                                                 \n",
            " dropout (Dropout)           (None, 512)               0         \n",
            "                                                                 \n",
            " dense_1 (Dense)             (None, 512)               262656    \n",
            "                                                                 \n",
            " dropout_1 (Dropout)         (None, 512)               0         \n",
            "                                                                 \n",
            " dense_2 (Dense)             (None, 10)                5130      \n",
            "                                                                 \n",
            "=================================================================\n",
            "Total params: 1,841,162\n",
            "Trainable params: 1,841,162\n",
            "Non-trainable params: 0\n",
            "_________________________________________________________________\n"
          ]
        }
      ]
    },
    {
      "cell_type": "code",
      "source": [
        "#chạy model với số lần học là 500 và độ kiên nhẫn là 100\n",
        "model.compile(loss='categorical_crossentropy',optimizer=RMSprop(), metrics=['accuracy'])\n",
        "model.compile(loss='categorical_crossentropy',optimizer=RMSprop(), metrics=['accuracy'])\n",
        "from keras.callbacks import EarlyStopping\n",
        "history = model.fit(x_train,y_train,batch_size=128,epochs=500,verbose=1,\n",
        "                    validation_split=0.2,callbacks=[EarlyStopping(monitor='val_loss',patience=100)])"
      ],
      "metadata": {
        "colab": {
          "base_uri": "https://localhost:8080/"
        },
        "id": "64rKl6whoPUb",
        "outputId": "8597dc9a-3858-41da-898d-7dba5ea35e07"
      },
      "execution_count": 6,
      "outputs": [
        {
          "output_type": "stream",
          "name": "stdout",
          "text": [
            "Epoch 1/500\n",
            "313/313 [==============================] - 12s 35ms/step - loss: 2.1865 - accuracy: 0.2380 - val_loss: 1.9233 - val_accuracy: 0.2933\n",
            "Epoch 2/500\n",
            "313/313 [==============================] - 11s 34ms/step - loss: 1.8851 - accuracy: 0.3185 - val_loss: 1.8152 - val_accuracy: 0.3339\n",
            "Epoch 3/500\n",
            "313/313 [==============================] - 11s 34ms/step - loss: 1.8029 - accuracy: 0.3508 - val_loss: 1.9011 - val_accuracy: 0.3032\n",
            "Epoch 4/500\n",
            "313/313 [==============================] - 11s 36ms/step - loss: 1.7513 - accuracy: 0.3713 - val_loss: 1.7715 - val_accuracy: 0.3626\n",
            "Epoch 5/500\n",
            "313/313 [==============================] - 11s 36ms/step - loss: 1.7081 - accuracy: 0.3876 - val_loss: 1.7002 - val_accuracy: 0.3913\n",
            "Epoch 6/500\n",
            "313/313 [==============================] - 11s 34ms/step - loss: 1.6850 - accuracy: 0.3972 - val_loss: 1.7171 - val_accuracy: 0.4011\n",
            "Epoch 7/500\n",
            "313/313 [==============================] - 11s 35ms/step - loss: 1.6527 - accuracy: 0.4085 - val_loss: 1.6665 - val_accuracy: 0.4067\n",
            "Epoch 8/500\n",
            "313/313 [==============================] - 11s 34ms/step - loss: 1.6379 - accuracy: 0.4151 - val_loss: 1.6010 - val_accuracy: 0.4328\n",
            "Epoch 9/500\n",
            "313/313 [==============================] - 11s 35ms/step - loss: 1.6187 - accuracy: 0.4211 - val_loss: 1.6148 - val_accuracy: 0.4287\n",
            "Epoch 10/500\n",
            "313/313 [==============================] - 11s 35ms/step - loss: 1.6012 - accuracy: 0.4309 - val_loss: 1.6637 - val_accuracy: 0.4086\n",
            "Epoch 11/500\n",
            "313/313 [==============================] - 11s 35ms/step - loss: 1.5913 - accuracy: 0.4313 - val_loss: 1.5774 - val_accuracy: 0.4389\n",
            "Epoch 12/500\n",
            "313/313 [==============================] - 11s 35ms/step - loss: 1.5781 - accuracy: 0.4338 - val_loss: 1.5895 - val_accuracy: 0.4257\n",
            "Epoch 13/500\n",
            "313/313 [==============================] - 11s 35ms/step - loss: 1.5645 - accuracy: 0.4377 - val_loss: 1.6075 - val_accuracy: 0.4112\n",
            "Epoch 14/500\n",
            "313/313 [==============================] - 11s 35ms/step - loss: 1.5538 - accuracy: 0.4421 - val_loss: 1.5846 - val_accuracy: 0.4331\n",
            "Epoch 15/500\n",
            "313/313 [==============================] - 11s 35ms/step - loss: 1.5441 - accuracy: 0.4487 - val_loss: 1.5816 - val_accuracy: 0.4460\n",
            "Epoch 16/500\n",
            "313/313 [==============================] - 11s 35ms/step - loss: 1.5365 - accuracy: 0.4517 - val_loss: 1.5565 - val_accuracy: 0.4532\n",
            "Epoch 17/500\n",
            "313/313 [==============================] - 11s 35ms/step - loss: 1.5272 - accuracy: 0.4563 - val_loss: 1.5570 - val_accuracy: 0.4571\n",
            "Epoch 18/500\n",
            "313/313 [==============================] - 11s 35ms/step - loss: 1.5174 - accuracy: 0.4576 - val_loss: 1.5300 - val_accuracy: 0.4575\n",
            "Epoch 19/500\n",
            "313/313 [==============================] - 11s 35ms/step - loss: 1.5156 - accuracy: 0.4611 - val_loss: 1.5518 - val_accuracy: 0.4530\n",
            "Epoch 20/500\n",
            "313/313 [==============================] - 11s 35ms/step - loss: 1.5030 - accuracy: 0.4635 - val_loss: 1.5259 - val_accuracy: 0.4526\n",
            "Epoch 21/500\n",
            "313/313 [==============================] - 11s 35ms/step - loss: 1.4976 - accuracy: 0.4627 - val_loss: 1.5301 - val_accuracy: 0.4616\n",
            "Epoch 22/500\n",
            "313/313 [==============================] - 11s 35ms/step - loss: 1.4934 - accuracy: 0.4677 - val_loss: 1.5519 - val_accuracy: 0.4557\n",
            "Epoch 23/500\n",
            "313/313 [==============================] - 11s 34ms/step - loss: 1.4894 - accuracy: 0.4665 - val_loss: 1.5446 - val_accuracy: 0.4521\n",
            "Epoch 24/500\n",
            "313/313 [==============================] - 11s 34ms/step - loss: 1.4798 - accuracy: 0.4725 - val_loss: 1.5599 - val_accuracy: 0.4521\n",
            "Epoch 25/500\n",
            "313/313 [==============================] - 11s 35ms/step - loss: 1.4797 - accuracy: 0.4721 - val_loss: 1.5460 - val_accuracy: 0.4566\n",
            "Epoch 26/500\n",
            "313/313 [==============================] - 11s 35ms/step - loss: 1.4766 - accuracy: 0.4688 - val_loss: 1.5964 - val_accuracy: 0.4393\n",
            "Epoch 27/500\n",
            "313/313 [==============================] - 11s 35ms/step - loss: 1.4642 - accuracy: 0.4773 - val_loss: 1.5070 - val_accuracy: 0.4588\n",
            "Epoch 28/500\n",
            "313/313 [==============================] - 11s 35ms/step - loss: 1.4655 - accuracy: 0.4789 - val_loss: 1.5120 - val_accuracy: 0.4749\n",
            "Epoch 29/500\n",
            "313/313 [==============================] - 11s 35ms/step - loss: 1.4550 - accuracy: 0.4804 - val_loss: 1.5353 - val_accuracy: 0.4667\n",
            "Epoch 30/500\n",
            "313/313 [==============================] - 11s 35ms/step - loss: 1.4557 - accuracy: 0.4789 - val_loss: 1.5669 - val_accuracy: 0.4521\n",
            "Epoch 31/500\n",
            "313/313 [==============================] - 11s 35ms/step - loss: 1.4512 - accuracy: 0.4824 - val_loss: 1.5179 - val_accuracy: 0.4772\n",
            "Epoch 32/500\n",
            "313/313 [==============================] - 11s 35ms/step - loss: 1.4476 - accuracy: 0.4854 - val_loss: 1.4917 - val_accuracy: 0.4835\n",
            "Epoch 33/500\n",
            "313/313 [==============================] - 11s 35ms/step - loss: 1.4516 - accuracy: 0.4850 - val_loss: 1.6151 - val_accuracy: 0.4513\n",
            "Epoch 34/500\n",
            "313/313 [==============================] - 11s 35ms/step - loss: 1.4348 - accuracy: 0.4882 - val_loss: 1.5494 - val_accuracy: 0.4501\n",
            "Epoch 35/500\n",
            "313/313 [==============================] - 11s 35ms/step - loss: 1.4370 - accuracy: 0.4912 - val_loss: 1.5053 - val_accuracy: 0.4789\n",
            "Epoch 36/500\n",
            "313/313 [==============================] - 11s 35ms/step - loss: 1.4326 - accuracy: 0.4893 - val_loss: 1.4870 - val_accuracy: 0.4898\n",
            "Epoch 37/500\n",
            "313/313 [==============================] - 11s 35ms/step - loss: 1.4277 - accuracy: 0.4910 - val_loss: 1.5235 - val_accuracy: 0.4671\n",
            "Epoch 38/500\n",
            "313/313 [==============================] - 11s 35ms/step - loss: 1.4196 - accuracy: 0.4952 - val_loss: 1.6122 - val_accuracy: 0.4511\n",
            "Epoch 39/500\n",
            "313/313 [==============================] - 11s 35ms/step - loss: 1.4265 - accuracy: 0.4925 - val_loss: 1.5223 - val_accuracy: 0.4584\n",
            "Epoch 40/500\n",
            "313/313 [==============================] - 11s 35ms/step - loss: 1.4211 - accuracy: 0.4942 - val_loss: 1.5031 - val_accuracy: 0.4793\n",
            "Epoch 41/500\n",
            "313/313 [==============================] - 11s 35ms/step - loss: 1.4146 - accuracy: 0.4952 - val_loss: 1.4866 - val_accuracy: 0.4861\n",
            "Epoch 42/500\n",
            "313/313 [==============================] - 11s 35ms/step - loss: 1.4186 - accuracy: 0.4963 - val_loss: 1.5350 - val_accuracy: 0.4781\n",
            "Epoch 43/500\n",
            "313/313 [==============================] - 11s 35ms/step - loss: 1.4127 - accuracy: 0.4995 - val_loss: 1.5577 - val_accuracy: 0.4454\n",
            "Epoch 44/500\n",
            "313/313 [==============================] - 11s 35ms/step - loss: 1.4098 - accuracy: 0.4967 - val_loss: 1.4838 - val_accuracy: 0.4839\n",
            "Epoch 45/500\n",
            "313/313 [==============================] - 11s 35ms/step - loss: 1.4088 - accuracy: 0.5033 - val_loss: 1.5212 - val_accuracy: 0.4753\n",
            "Epoch 46/500\n",
            "313/313 [==============================] - 11s 35ms/step - loss: 1.4113 - accuracy: 0.4990 - val_loss: 1.5344 - val_accuracy: 0.4759\n",
            "Epoch 47/500\n",
            "313/313 [==============================] - 11s 35ms/step - loss: 1.4009 - accuracy: 0.5027 - val_loss: 1.5717 - val_accuracy: 0.4502\n",
            "Epoch 48/500\n",
            "313/313 [==============================] - 11s 35ms/step - loss: 1.4091 - accuracy: 0.4999 - val_loss: 1.5177 - val_accuracy: 0.4810\n",
            "Epoch 49/500\n",
            "313/313 [==============================] - 11s 35ms/step - loss: 1.3996 - accuracy: 0.5012 - val_loss: 1.5477 - val_accuracy: 0.4569\n",
            "Epoch 50/500\n",
            "313/313 [==============================] - 11s 35ms/step - loss: 1.3969 - accuracy: 0.5058 - val_loss: 1.5004 - val_accuracy: 0.4815\n",
            "Epoch 51/500\n",
            "313/313 [==============================] - 11s 35ms/step - loss: 1.3905 - accuracy: 0.5094 - val_loss: 1.5740 - val_accuracy: 0.4730\n",
            "Epoch 52/500\n",
            "313/313 [==============================] - 11s 35ms/step - loss: 1.3870 - accuracy: 0.5088 - val_loss: 1.5111 - val_accuracy: 0.4887\n",
            "Epoch 53/500\n",
            "313/313 [==============================] - 11s 35ms/step - loss: 1.3916 - accuracy: 0.5055 - val_loss: 1.5713 - val_accuracy: 0.4665\n",
            "Epoch 54/500\n",
            "313/313 [==============================] - 11s 35ms/step - loss: 1.3887 - accuracy: 0.5070 - val_loss: 1.5389 - val_accuracy: 0.4667\n",
            "Epoch 55/500\n",
            "313/313 [==============================] - 11s 35ms/step - loss: 1.3876 - accuracy: 0.5076 - val_loss: 1.5294 - val_accuracy: 0.4735\n",
            "Epoch 56/500\n",
            "313/313 [==============================] - 11s 35ms/step - loss: 1.3777 - accuracy: 0.5120 - val_loss: 1.5336 - val_accuracy: 0.4697\n",
            "Epoch 57/500\n",
            "313/313 [==============================] - 11s 35ms/step - loss: 1.3879 - accuracy: 0.5077 - val_loss: 1.5694 - val_accuracy: 0.4670\n",
            "Epoch 58/500\n",
            "313/313 [==============================] - 11s 35ms/step - loss: 1.3864 - accuracy: 0.5079 - val_loss: 1.5373 - val_accuracy: 0.4810\n",
            "Epoch 59/500\n",
            "313/313 [==============================] - 11s 35ms/step - loss: 1.3825 - accuracy: 0.5112 - val_loss: 1.5721 - val_accuracy: 0.4808\n",
            "Epoch 60/500\n",
            "313/313 [==============================] - 11s 36ms/step - loss: 1.3750 - accuracy: 0.5107 - val_loss: 1.7423 - val_accuracy: 0.4348\n",
            "Epoch 61/500\n",
            "313/313 [==============================] - 11s 35ms/step - loss: 1.3752 - accuracy: 0.5147 - val_loss: 1.5515 - val_accuracy: 0.4648\n",
            "Epoch 62/500\n",
            "313/313 [==============================] - 11s 35ms/step - loss: 1.3787 - accuracy: 0.5131 - val_loss: 1.5016 - val_accuracy: 0.4917\n",
            "Epoch 63/500\n",
            "313/313 [==============================] - 11s 35ms/step - loss: 1.3749 - accuracy: 0.5124 - val_loss: 1.5590 - val_accuracy: 0.4713\n",
            "Epoch 64/500\n",
            "313/313 [==============================] - 11s 35ms/step - loss: 1.3755 - accuracy: 0.5111 - val_loss: 1.5431 - val_accuracy: 0.4738\n",
            "Epoch 65/500\n",
            "313/313 [==============================] - 11s 35ms/step - loss: 1.3723 - accuracy: 0.5139 - val_loss: 1.5779 - val_accuracy: 0.4620\n",
            "Epoch 66/500\n",
            "313/313 [==============================] - 11s 37ms/step - loss: 1.3765 - accuracy: 0.5117 - val_loss: 1.6003 - val_accuracy: 0.4513\n",
            "Epoch 67/500\n",
            "313/313 [==============================] - 11s 35ms/step - loss: 1.3722 - accuracy: 0.5159 - val_loss: 1.5409 - val_accuracy: 0.4820\n",
            "Epoch 68/500\n",
            "313/313 [==============================] - 11s 35ms/step - loss: 1.3586 - accuracy: 0.5211 - val_loss: 1.5555 - val_accuracy: 0.4664\n",
            "Epoch 69/500\n",
            "313/313 [==============================] - 11s 35ms/step - loss: 1.3634 - accuracy: 0.5174 - val_loss: 1.5463 - val_accuracy: 0.4682\n",
            "Epoch 70/500\n",
            "313/313 [==============================] - 11s 36ms/step - loss: 1.3616 - accuracy: 0.5174 - val_loss: 1.4996 - val_accuracy: 0.4872\n",
            "Epoch 71/500\n",
            "313/313 [==============================] - 11s 35ms/step - loss: 1.3730 - accuracy: 0.5154 - val_loss: 1.5399 - val_accuracy: 0.4764\n",
            "Epoch 72/500\n",
            "313/313 [==============================] - 11s 35ms/step - loss: 1.3587 - accuracy: 0.5186 - val_loss: 1.5888 - val_accuracy: 0.4649\n",
            "Epoch 73/500\n",
            "313/313 [==============================] - 11s 35ms/step - loss: 1.3613 - accuracy: 0.5204 - val_loss: 1.5222 - val_accuracy: 0.4850\n",
            "Epoch 74/500\n",
            "313/313 [==============================] - 11s 35ms/step - loss: 1.3539 - accuracy: 0.5176 - val_loss: 1.5643 - val_accuracy: 0.4717\n",
            "Epoch 75/500\n",
            "313/313 [==============================] - 11s 35ms/step - loss: 1.3625 - accuracy: 0.5223 - val_loss: 1.4965 - val_accuracy: 0.4860\n",
            "Epoch 76/500\n",
            "313/313 [==============================] - 11s 35ms/step - loss: 1.3603 - accuracy: 0.5178 - val_loss: 1.5295 - val_accuracy: 0.4852\n",
            "Epoch 77/500\n",
            "313/313 [==============================] - 11s 35ms/step - loss: 1.3578 - accuracy: 0.5217 - val_loss: 1.5516 - val_accuracy: 0.4712\n",
            "Epoch 78/500\n",
            "313/313 [==============================] - 11s 35ms/step - loss: 1.3510 - accuracy: 0.5240 - val_loss: 1.5589 - val_accuracy: 0.4813\n",
            "Epoch 79/500\n",
            "313/313 [==============================] - 11s 35ms/step - loss: 1.3462 - accuracy: 0.5242 - val_loss: 1.5803 - val_accuracy: 0.4766\n",
            "Epoch 80/500\n",
            "313/313 [==============================] - 11s 35ms/step - loss: 1.3501 - accuracy: 0.5242 - val_loss: 1.5702 - val_accuracy: 0.4780\n",
            "Epoch 81/500\n",
            "313/313 [==============================] - 11s 35ms/step - loss: 1.3534 - accuracy: 0.5226 - val_loss: 1.5420 - val_accuracy: 0.4739\n",
            "Epoch 82/500\n",
            "313/313 [==============================] - 11s 35ms/step - loss: 1.3527 - accuracy: 0.5255 - val_loss: 1.5793 - val_accuracy: 0.4457\n",
            "Epoch 83/500\n",
            "313/313 [==============================] - 11s 35ms/step - loss: 1.3413 - accuracy: 0.5269 - val_loss: 1.5953 - val_accuracy: 0.4650\n",
            "Epoch 84/500\n",
            "313/313 [==============================] - 11s 35ms/step - loss: 1.3484 - accuracy: 0.5223 - val_loss: 1.5920 - val_accuracy: 0.4666\n",
            "Epoch 85/500\n",
            "313/313 [==============================] - 11s 35ms/step - loss: 1.3474 - accuracy: 0.5243 - val_loss: 1.5723 - val_accuracy: 0.4756\n",
            "Epoch 86/500\n",
            "313/313 [==============================] - 11s 35ms/step - loss: 1.3471 - accuracy: 0.5280 - val_loss: 1.5840 - val_accuracy: 0.4871\n",
            "Epoch 87/500\n",
            "313/313 [==============================] - 11s 35ms/step - loss: 1.3415 - accuracy: 0.5234 - val_loss: 1.6169 - val_accuracy: 0.4670\n",
            "Epoch 88/500\n",
            "313/313 [==============================] - 11s 35ms/step - loss: 1.3393 - accuracy: 0.5253 - val_loss: 1.5322 - val_accuracy: 0.4834\n",
            "Epoch 89/500\n",
            "313/313 [==============================] - 11s 35ms/step - loss: 1.3406 - accuracy: 0.5253 - val_loss: 1.6729 - val_accuracy: 0.4627\n",
            "Epoch 90/500\n",
            "313/313 [==============================] - 11s 36ms/step - loss: 1.3425 - accuracy: 0.5269 - val_loss: 1.5658 - val_accuracy: 0.4669\n",
            "Epoch 91/500\n",
            "313/313 [==============================] - 11s 35ms/step - loss: 1.3417 - accuracy: 0.5263 - val_loss: 1.7753 - val_accuracy: 0.4350\n",
            "Epoch 92/500\n",
            "313/313 [==============================] - 11s 35ms/step - loss: 1.3432 - accuracy: 0.5294 - val_loss: 1.5658 - val_accuracy: 0.4877\n",
            "Epoch 93/500\n",
            "313/313 [==============================] - 11s 35ms/step - loss: 1.3480 - accuracy: 0.5278 - val_loss: 1.5594 - val_accuracy: 0.4711\n",
            "Epoch 94/500\n",
            "313/313 [==============================] - 11s 35ms/step - loss: 1.3394 - accuracy: 0.5271 - val_loss: 1.5578 - val_accuracy: 0.4756\n",
            "Epoch 95/500\n",
            "313/313 [==============================] - 11s 35ms/step - loss: 1.3353 - accuracy: 0.5293 - val_loss: 1.6228 - val_accuracy: 0.4647\n",
            "Epoch 96/500\n",
            "313/313 [==============================] - 11s 35ms/step - loss: 1.3322 - accuracy: 0.5324 - val_loss: 1.6144 - val_accuracy: 0.4747\n",
            "Epoch 97/500\n",
            "313/313 [==============================] - 11s 36ms/step - loss: 1.3312 - accuracy: 0.5333 - val_loss: 1.5754 - val_accuracy: 0.4751\n",
            "Epoch 98/500\n",
            "313/313 [==============================] - 11s 35ms/step - loss: 1.3375 - accuracy: 0.5298 - val_loss: 1.6257 - val_accuracy: 0.4821\n",
            "Epoch 99/500\n",
            "313/313 [==============================] - 11s 35ms/step - loss: 1.3314 - accuracy: 0.5302 - val_loss: 1.5849 - val_accuracy: 0.4963\n",
            "Epoch 100/500\n",
            "313/313 [==============================] - 11s 35ms/step - loss: 1.3330 - accuracy: 0.5296 - val_loss: 1.6390 - val_accuracy: 0.4511\n",
            "Epoch 101/500\n",
            "313/313 [==============================] - 11s 36ms/step - loss: 1.3337 - accuracy: 0.5300 - val_loss: 1.6701 - val_accuracy: 0.4635\n",
            "Epoch 102/500\n",
            "313/313 [==============================] - 11s 35ms/step - loss: 1.3375 - accuracy: 0.5278 - val_loss: 1.6130 - val_accuracy: 0.4600\n",
            "Epoch 103/500\n",
            "313/313 [==============================] - 11s 35ms/step - loss: 1.3387 - accuracy: 0.5282 - val_loss: 1.7981 - val_accuracy: 0.4600\n",
            "Epoch 104/500\n",
            "313/313 [==============================] - 11s 35ms/step - loss: 1.3315 - accuracy: 0.5341 - val_loss: 1.5370 - val_accuracy: 0.4905\n",
            "Epoch 105/500\n",
            "313/313 [==============================] - 11s 35ms/step - loss: 1.3211 - accuracy: 0.5329 - val_loss: 1.6504 - val_accuracy: 0.4698\n",
            "Epoch 106/500\n",
            "313/313 [==============================] - 11s 35ms/step - loss: 1.3346 - accuracy: 0.5302 - val_loss: 1.5641 - val_accuracy: 0.4856\n",
            "Epoch 107/500\n",
            "313/313 [==============================] - 11s 35ms/step - loss: 1.3259 - accuracy: 0.5345 - val_loss: 1.5882 - val_accuracy: 0.4636\n",
            "Epoch 108/500\n",
            "313/313 [==============================] - 11s 35ms/step - loss: 1.3300 - accuracy: 0.5356 - val_loss: 1.6889 - val_accuracy: 0.4505\n",
            "Epoch 109/500\n",
            "313/313 [==============================] - 11s 35ms/step - loss: 1.3335 - accuracy: 0.5339 - val_loss: 1.6486 - val_accuracy: 0.4743\n",
            "Epoch 110/500\n",
            "313/313 [==============================] - 11s 35ms/step - loss: 1.3197 - accuracy: 0.5350 - val_loss: 1.7430 - val_accuracy: 0.4478\n",
            "Epoch 111/500\n",
            "313/313 [==============================] - 11s 35ms/step - loss: 1.3233 - accuracy: 0.5367 - val_loss: 1.6129 - val_accuracy: 0.4732\n",
            "Epoch 112/500\n",
            "313/313 [==============================] - 11s 35ms/step - loss: 1.3219 - accuracy: 0.5343 - val_loss: 1.5731 - val_accuracy: 0.4860\n",
            "Epoch 113/500\n",
            "313/313 [==============================] - 11s 35ms/step - loss: 1.3274 - accuracy: 0.5326 - val_loss: 1.6358 - val_accuracy: 0.4627\n",
            "Epoch 114/500\n",
            "313/313 [==============================] - 11s 35ms/step - loss: 1.3315 - accuracy: 0.5339 - val_loss: 1.6797 - val_accuracy: 0.4581\n",
            "Epoch 115/500\n",
            "313/313 [==============================] - 11s 35ms/step - loss: 1.3194 - accuracy: 0.5373 - val_loss: 1.7273 - val_accuracy: 0.4455\n",
            "Epoch 116/500\n",
            "313/313 [==============================] - 12s 37ms/step - loss: 1.3229 - accuracy: 0.5344 - val_loss: 1.6289 - val_accuracy: 0.4888\n",
            "Epoch 117/500\n",
            "313/313 [==============================] - 11s 35ms/step - loss: 1.3262 - accuracy: 0.5347 - val_loss: 1.6302 - val_accuracy: 0.4905\n",
            "Epoch 118/500\n",
            "313/313 [==============================] - 11s 35ms/step - loss: 1.3258 - accuracy: 0.5383 - val_loss: 1.6256 - val_accuracy: 0.4831\n",
            "Epoch 119/500\n",
            "313/313 [==============================] - 11s 35ms/step - loss: 1.3278 - accuracy: 0.5351 - val_loss: 1.6097 - val_accuracy: 0.4618\n",
            "Epoch 120/500\n",
            "313/313 [==============================] - 11s 35ms/step - loss: 1.3287 - accuracy: 0.5310 - val_loss: 1.6121 - val_accuracy: 0.4830\n",
            "Epoch 121/500\n",
            "313/313 [==============================] - 11s 35ms/step - loss: 1.3152 - accuracy: 0.5407 - val_loss: 1.6804 - val_accuracy: 0.4730\n",
            "Epoch 122/500\n",
            "313/313 [==============================] - 11s 35ms/step - loss: 1.3243 - accuracy: 0.5359 - val_loss: 1.7620 - val_accuracy: 0.4756\n",
            "Epoch 123/500\n",
            "313/313 [==============================] - 11s 35ms/step - loss: 1.3182 - accuracy: 0.5395 - val_loss: 1.6701 - val_accuracy: 0.4795\n",
            "Epoch 124/500\n",
            "313/313 [==============================] - 11s 35ms/step - loss: 1.3127 - accuracy: 0.5398 - val_loss: 1.6646 - val_accuracy: 0.4768\n",
            "Epoch 125/500\n",
            "313/313 [==============================] - 11s 35ms/step - loss: 1.3195 - accuracy: 0.5375 - val_loss: 1.6684 - val_accuracy: 0.4701\n",
            "Epoch 126/500\n",
            "313/313 [==============================] - 11s 35ms/step - loss: 1.3196 - accuracy: 0.5342 - val_loss: 1.7496 - val_accuracy: 0.4629\n",
            "Epoch 127/500\n",
            "313/313 [==============================] - 11s 35ms/step - loss: 1.3227 - accuracy: 0.5364 - val_loss: 1.7950 - val_accuracy: 0.4579\n",
            "Epoch 128/500\n",
            "313/313 [==============================] - 11s 35ms/step - loss: 1.3285 - accuracy: 0.5357 - val_loss: 1.6771 - val_accuracy: 0.4681\n",
            "Epoch 129/500\n",
            "313/313 [==============================] - 11s 35ms/step - loss: 1.3133 - accuracy: 0.5378 - val_loss: 1.6670 - val_accuracy: 0.4635\n",
            "Epoch 130/500\n",
            "313/313 [==============================] - 11s 35ms/step - loss: 1.3242 - accuracy: 0.5352 - val_loss: 1.6628 - val_accuracy: 0.4725\n",
            "Epoch 131/500\n",
            "313/313 [==============================] - 11s 35ms/step - loss: 1.3176 - accuracy: 0.5404 - val_loss: 1.9094 - val_accuracy: 0.4636\n",
            "Epoch 132/500\n",
            "313/313 [==============================] - 11s 35ms/step - loss: 1.3201 - accuracy: 0.5397 - val_loss: 1.8070 - val_accuracy: 0.4645\n",
            "Epoch 133/500\n",
            "313/313 [==============================] - 11s 36ms/step - loss: 1.3177 - accuracy: 0.5368 - val_loss: 1.6671 - val_accuracy: 0.4857\n",
            "Epoch 134/500\n",
            "313/313 [==============================] - 11s 35ms/step - loss: 1.3169 - accuracy: 0.5379 - val_loss: 1.6436 - val_accuracy: 0.4836\n",
            "Epoch 135/500\n",
            "313/313 [==============================] - 11s 35ms/step - loss: 1.3245 - accuracy: 0.5355 - val_loss: 1.7961 - val_accuracy: 0.4601\n",
            "Epoch 136/500\n",
            "313/313 [==============================] - 11s 35ms/step - loss: 1.3142 - accuracy: 0.5422 - val_loss: 1.6556 - val_accuracy: 0.4739\n",
            "Epoch 137/500\n",
            "313/313 [==============================] - 11s 35ms/step - loss: 1.3165 - accuracy: 0.5383 - val_loss: 1.7409 - val_accuracy: 0.4679\n",
            "Epoch 138/500\n",
            "313/313 [==============================] - 11s 35ms/step - loss: 1.3259 - accuracy: 0.5340 - val_loss: 1.6998 - val_accuracy: 0.4684\n",
            "Epoch 139/500\n",
            "313/313 [==============================] - 11s 35ms/step - loss: 1.3097 - accuracy: 0.5446 - val_loss: 1.7848 - val_accuracy: 0.4787\n",
            "Epoch 140/500\n",
            "313/313 [==============================] - 11s 35ms/step - loss: 1.3178 - accuracy: 0.5363 - val_loss: 1.7971 - val_accuracy: 0.4675\n",
            "Epoch 141/500\n",
            "313/313 [==============================] - 11s 35ms/step - loss: 1.3153 - accuracy: 0.5386 - val_loss: 1.7818 - val_accuracy: 0.4672\n",
            "Epoch 142/500\n",
            "313/313 [==============================] - 11s 35ms/step - loss: 1.3229 - accuracy: 0.5383 - val_loss: 1.7194 - val_accuracy: 0.4507\n",
            "Epoch 143/500\n",
            "313/313 [==============================] - 11s 35ms/step - loss: 1.3119 - accuracy: 0.5423 - val_loss: 1.8454 - val_accuracy: 0.4189\n",
            "Epoch 144/500\n",
            "313/313 [==============================] - 11s 35ms/step - loss: 1.3034 - accuracy: 0.5452 - val_loss: 1.7026 - val_accuracy: 0.4643\n"
          ]
        }
      ]
    },
    {
      "cell_type": "code",
      "source": [
        "#đánh giá chất lượng của mô hình và vẽ lại\n",
        "score = model.evaluate(x_test,y_test,verbose=0)\n",
        "print('Sai số kiểm tra là: ',score[0])\n",
        "print('Độ chính xác kiểm tra là: ',score[1])\n",
        "#vẽ đồ thị\n",
        "plt.plot(history.history['accuracy'])\n",
        "plt.plot(history.history['val_accuracy'])\n",
        "plt.title('model accuracy')\n",
        "plt.ylabel('accuracy')\n",
        "plt.xlabel('epochs')\n",
        "plt.legend(['train','Validation'])\n",
        "plt.show()"
      ],
      "metadata": {
        "colab": {
          "base_uri": "https://localhost:8080/",
          "height": 330
        },
        "id": "keErUnrpoRBM",
        "outputId": "fce9146d-918e-4dfd-d386-aeaa7dfb7a2b"
      },
      "execution_count": 7,
      "outputs": [
        {
          "output_type": "stream",
          "name": "stdout",
          "text": [
            "Sai số kiểm tra là:  1.6682579517364502\n",
            "Độ chính xác kiểm tra là:  0.45989999175071716\n"
          ]
        },
        {
          "output_type": "display_data",
          "data": {
            "text/plain": [
              "<Figure size 432x288 with 1 Axes>"
            ],
            "image/png": "[encoded data removed]"
          },
          "metadata": {
            "needs_background": "light"
          }
        }
      ]
    },
    {
      "cell_type": "code",
      "source": [
        ""
      ],
      "metadata": {
        "id": "i5-BwB8j1MBS"
      },
      "execution_count": null,
      "outputs": []
    }
  ]
}