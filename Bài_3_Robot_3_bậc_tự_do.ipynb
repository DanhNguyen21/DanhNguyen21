{
  "nbformat": 4,
  "nbformat_minor": 0,
  "metadata": {
    "colab": {
      "name": "Bài 3 - Robot 3 bậc tự do.ipynb",
      "provenance": [],
      "collapsed_sections": [],
      "include_colab_link": true
    },
    "kernelspec": {
      "name": "python3",
      "display_name": "Python 3"
    },
    "language_info": {
      "name": "python"
    }
  },
  "cells": [
    {
      "cell_type": "markdown",
      "metadata": {
        "id": "view-in-github",
        "colab_type": "text"
      },
      "source": [
        "<a href=\"https://colab.research.google.com/github/DanhNguyen21/DanhNguyen21/blob/main/B%C3%A0i_3_Robot_3_b%E1%BA%ADc_t%E1%BB%B1_do.ipynb\" target=\"_parent\"><img src=\"https://colab.research.google.com/assets/colab-badge.svg\" alt=\"Open In Colab\"/></a>"
      ]
    },
    {
      "cell_type": "code",
      "execution_count": null,
      "metadata": {
        "id": "_xrk0qEzwN2J"
      },
      "outputs": [],
      "source": [
        "#Load library\n",
        "import math as ma\n",
        "import pandas as pd\n",
        "import numpy as np\n",
        "import csv\n",
        "from sklearn.model_selection import train_test_split\n",
        "import matplotlib.pyplot as plt\n",
        "from keras.models import Sequential\n",
        "from keras.layers import Dense,Activation,Dropout\n",
        "from tensorflow.keras.optimizers import Adam\n",
        "from keras.callbacks import EarlyStopping\n",
        "from keras.backend import categorical_crossentropy"
      ]
    },
    {
      "cell_type": "code",
      "source": [
        "create_data=[]\n",
        "for i in range(0,180,2):\n",
        "    array=[]\n",
        "    for j in range(0,200,2):\n",
        "        k=180-i-j\n",
        "        x=50*ma.cos(ma.radians(i))+40*ma.cos(ma.radians(i+j))+30*ma.cos(ma.radians(i+j+k))\n",
        "        y=50*ma.sin(ma.radians(i))+40*ma.sin(ma.radians(i+j))+30*ma.sin(ma.radians(i+j+k))\n",
        "        array.append(np.array((i,j,k,x,y)))\n",
        "    create_data.extend(array)"
      ],
      "metadata": {
        "id": "lBCA7m2TwY1O"
      },
      "execution_count": null,
      "outputs": []
    },
    {
      "cell_type": "code",
      "source": [
        "header = ['alpha', 'beta', 'sigma' ,'x', 'y']\n",
        "with open('robot_3d.csv', 'w', encoding='UTF8', newline='') as data_table:\n",
        "    viet = csv.writer(data_table)\n",
        "    viet.writerow(header)\n",
        "    viet.writerows(create_data)"
      ],
      "metadata": {
        "id": "qrQga62Fwuns"
      },
      "execution_count": null,
      "outputs": []
    },
    {
      "cell_type": "code",
      "source": [
        "data=pd.read_csv('robot_3d.csv')\n",
        "data"
      ],
      "metadata": {
        "colab": {
          "base_uri": "https://localhost:8080/",
          "height": 424
        },
        "id": "POci-gunw4R5",
        "outputId": "5755312a-c634-4114-89cc-39c9a56414f0"
      },
      "execution_count": null,
      "outputs": [
        {
          "output_type": "execute_result",
          "data": {
            "text/plain": [
              "      alpha   beta  sigma          x             y\n",
              "0       0.0    0.0  180.0  60.000000  3.673940e-15\n",
              "1       0.0    2.0  178.0  59.975633  1.395980e+00\n",
              "2       0.0    4.0  176.0  59.902562  2.790259e+00\n",
              "3       0.0    6.0  174.0  59.780876  4.181139e+00\n",
              "4       0.0    8.0  172.0  59.610723  5.566924e+00\n",
              "...     ...    ...    ...        ...           ...\n",
              "8995  178.0  190.0 -188.0 -40.358819  7.311899e+00\n",
              "8996  178.0  192.0 -190.0 -40.577231  8.690902e+00\n",
              "8997  178.0  194.0 -192.0 -40.843637  1.006144e+01\n",
              "8998  178.0  196.0 -194.0 -41.157712  1.142185e+01\n",
              "8999  178.0  198.0 -196.0 -41.519074  1.277047e+01\n",
              "\n",
              "[9000 rows x 5 columns]"
            ],
            "text/html": [
              "\n",
              "  <div id=\"df-b6b5b7dd-6e73-4894-9962-d2489c04e91c\">\n",
              "    <div class=\"colab-df-container\">\n",
              "      <div>\n",
              "<style scoped>\n",
              "    .dataframe tbody tr th:only-of-type {\n",
              "        vertical-align: middle;\n",
              "    }\n",
              "\n",
              "    .dataframe tbody tr th {\n",
              "        vertical-align: top;\n",
              "    }\n",
              "\n",
              "    .dataframe thead th {\n",
              "        text-align: right;\n",
              "    }\n",
              "</style>\n",
              "<table border=\"1\" class=\"dataframe\">\n",
              "  <thead>\n",
              "    <tr style=\"text-align: right;\">\n",
              "      <th></th>\n",
              "      <th>alpha</th>\n",
              "      <th>beta</th>\n",
              "      <th>sigma</th>\n",
              "      <th>x</th>\n",
              "      <th>y</th>\n",
              "    </tr>\n",
              "  </thead>\n",
              "  <tbody>\n",
              "    <tr>\n",
              "      <th>0</th>\n",
              "      <td>0.0</td>\n",
              "      <td>0.0</td>\n",
              "      <td>180.0</td>\n",
              "      <td>60.000000</td>\n",
              "      <td>3.673940e-15</td>\n",
              "    </tr>\n",
              "    <tr>\n",
              "      <th>1</th>\n",
              "      <td>0.0</td>\n",
              "      <td>2.0</td>\n",
              "      <td>178.0</td>\n",
              "      <td>59.975633</td>\n",
              "      <td>1.395980e+00</td>\n",
              "    </tr>\n",
              "    <tr>\n",
              "      <th>2</th>\n",
              "      <td>0.0</td>\n",
              "      <td>4.0</td>\n",
              "      <td>176.0</td>\n",
              "      <td>59.902562</td>\n",
              "      <td>2.790259e+00</td>\n",
              "    </tr>\n",
              "    <tr>\n",
              "      <th>3</th>\n",
              "      <td>0.0</td>\n",
              "      <td>6.0</td>\n",
              "      <td>174.0</td>\n",
              "      <td>59.780876</td>\n",
              "      <td>4.181139e+00</td>\n",
              "    </tr>\n",
              "    <tr>\n",
              "      <th>4</th>\n",
              "      <td>0.0</td>\n",
              "      <td>8.0</td>\n",
              "      <td>172.0</td>\n",
              "      <td>59.610723</td>\n",
              "      <td>5.566924e+00</td>\n",
              "    </tr>\n",
              "    <tr>\n",
              "      <th>...</th>\n",
              "      <td>...</td>\n",
              "      <td>...</td>\n",
              "      <td>...</td>\n",
              "      <td>...</td>\n",
              "      <td>...</td>\n",
              "    </tr>\n",
              "    <tr>\n",
              "      <th>8995</th>\n",
              "      <td>178.0</td>\n",
              "      <td>190.0</td>\n",
              "      <td>-188.0</td>\n",
              "      <td>-40.358819</td>\n",
              "      <td>7.311899e+00</td>\n",
              "    </tr>\n",
              "    <tr>\n",
              "      <th>8996</th>\n",
              "      <td>178.0</td>\n",
              "      <td>192.0</td>\n",
              "      <td>-190.0</td>\n",
              "      <td>-40.577231</td>\n",
              "      <td>8.690902e+00</td>\n",
              "    </tr>\n",
              "    <tr>\n",
              "      <th>8997</th>\n",
              "      <td>178.0</td>\n",
              "      <td>194.0</td>\n",
              "      <td>-192.0</td>\n",
              "      <td>-40.843637</td>\n",
              "      <td>1.006144e+01</td>\n",
              "    </tr>\n",
              "    <tr>\n",
              "      <th>8998</th>\n",
              "      <td>178.0</td>\n",
              "      <td>196.0</td>\n",
              "      <td>-194.0</td>\n",
              "      <td>-41.157712</td>\n",
              "      <td>1.142185e+01</td>\n",
              "    </tr>\n",
              "    <tr>\n",
              "      <th>8999</th>\n",
              "      <td>178.0</td>\n",
              "      <td>198.0</td>\n",
              "      <td>-196.0</td>\n",
              "      <td>-41.519074</td>\n",
              "      <td>1.277047e+01</td>\n",
              "    </tr>\n",
              "  </tbody>\n",
              "</table>\n",
              "<p>9000 rows × 5 columns</p>\n",
              "</div>\n",
              "      <button class=\"colab-df-convert\" onclick=\"convertToInteractive('df-b6b5b7dd-6e73-4894-9962-d2489c04e91c')\"\n",
              "              title=\"Convert this dataframe to an interactive table.\"\n",
              "              style=\"display:none;\">\n",
              "        \n",
              "  <svg xmlns=\"http://www.w3.org/2000/svg\" height=\"24px\"viewBox=\"0 0 24 24\"\n",
              "       width=\"24px\">\n",
              "    <path d=\"M0 0h24v24H0V0z\" fill=\"none\"/>\n",
              "    <path d=\"M18.56 5.44l.94 2.06.94-2.06 2.06-.94-2.06-.94-.94-2.06-.94 2.06-2.06.94zm-11 1L8.5 8.5l.94-2.06 2.06-.94-2.06-.94L8.5 2.5l-.94 2.06-2.06.94zm10 10l.94 2.06.94-2.06 2.06-.94-2.06-.94-.94-2.06-.94 2.06-2.06.94z\"/><path d=\"M17.41 7.96l-1.37-1.37c-.4-.4-.92-.59-1.43-.59-.52 0-1.04.2-1.43.59L10.3 9.45l-7.72 7.72c-.78.78-.78 2.05 0 2.83L4 21.41c.39.39.9.59 1.41.59.51 0 1.02-.2 1.41-.59l7.78-7.78 2.81-2.81c.8-.78.8-2.07 0-2.86zM5.41 20L4 18.59l7.72-7.72 1.47 1.35L5.41 20z\"/>\n",
              "  </svg>\n",
              "      </button>\n",
              "      \n",
              "  <style>\n",
              "    .colab-df-container {\n",
              "      display:flex;\n",
              "      flex-wrap:wrap;\n",
              "      gap: 12px;\n",
              "    }\n",
              "\n",
              "    .colab-df-convert {\n",
              "      background-color: #E8F0FE;\n",
              "      border: none;\n",
              "      border-radius: 50%;\n",
              "      cursor: pointer;\n",
              "      display: none;\n",
              "      fill: #1967D2;\n",
              "      height: 32px;\n",
              "      padding: 0 0 0 0;\n",
              "      width: 32px;\n",
              "    }\n",
              "\n",
              "    .colab-df-convert:hover {\n",
              "      background-color: #E2EBFA;\n",
              "      box-shadow: 0px 1px 2px rgba(60, 64, 67, 0.3), 0px 1px 3px 1px rgba(60, 64, 67, 0.15);\n",
              "      fill: #174EA6;\n",
              "    }\n",
              "\n",
              "    [theme=dark] .colab-df-convert {\n",
              "      background-color: #3B4455;\n",
              "      fill: #D2E3FC;\n",
              "    }\n",
              "\n",
              "    [theme=dark] .colab-df-convert:hover {\n",
              "      background-color: #434B5C;\n",
              "      box-shadow: 0px 1px 3px 1px rgba(0, 0, 0, 0.15);\n",
              "      filter: drop-shadow(0px 1px 2px rgba(0, 0, 0, 0.3));\n",
              "      fill: #FFFFFF;\n",
              "    }\n",
              "  </style>\n",
              "\n",
              "      <script>\n",
              "        const buttonEl =\n",
              "          document.querySelector('#df-b6b5b7dd-6e73-4894-9962-d2489c04e91c button.colab-df-convert');\n",
              "        buttonEl.style.display =\n",
              "          google.colab.kernel.accessAllowed ? 'block' : 'none';\n",
              "\n",
              "        async function convertToInteractive(key) {\n",
              "          const element = document.querySelector('#df-b6b5b7dd-6e73-4894-9962-d2489c04e91c');\n",
              "          const dataTable =\n",
              "            await google.colab.kernel.invokeFunction('convertToInteractive',\n",
              "                                                     [key], {});\n",
              "          if (!dataTable) return;\n",
              "\n",
              "          const docLinkHtml = 'Like what you see? Visit the ' +\n",
              "            '<a target=\"_blank\" href=https://colab.research.google.com/notebooks/data_table.ipynb>data table notebook</a>'\n",
              "            + ' to learn more about interactive tables.';\n",
              "          element.innerHTML = '';\n",
              "          dataTable['output_type'] = 'display_data';\n",
              "          await google.colab.output.renderOutput(dataTable, element);\n",
              "          const docLink = document.createElement('div');\n",
              "          docLink.innerHTML = docLinkHtml;\n",
              "          element.appendChild(docLink);\n",
              "        }\n",
              "      </script>\n",
              "    </div>\n",
              "  </div>\n",
              "  "
            ]
          },
          "metadata": {},
          "execution_count": 4
        }
      ]
    },
    {
      "cell_type": "code",
      "source": [
        "x_data=np.array(data.drop(['alpha','beta','sigma'],axis=1))\n",
        "y_data=np.array(data[['alpha','beta','sigma']])\n",
        "y_data.shape"
      ],
      "metadata": {
        "id": "yrMGBrigxB_s",
        "colab": {
          "base_uri": "https://localhost:8080/"
        },
        "outputId": "e32ae1be-0354-4ac1-e2f2-69b1d50834c8"
      },
      "execution_count": null,
      "outputs": [
        {
          "output_type": "execute_result",
          "data": {
            "text/plain": [
              "(9000, 3)"
            ]
          },
          "metadata": {},
          "execution_count": 5
        }
      ]
    },
    {
      "cell_type": "code",
      "source": [
        "x_train,x_test,y_train,y_test=train_test_split(x_data,y_data,test_size=0.1)\n",
        "x_train.shape"
      ],
      "metadata": {
        "colab": {
          "base_uri": "https://localhost:8080/"
        },
        "id": "gK-GcSh0xkqU",
        "outputId": "09369375-553b-4acb-da0a-d625eaf42a42"
      },
      "execution_count": null,
      "outputs": [
        {
          "output_type": "execute_result",
          "data": {
            "text/plain": [
              "(8100, 2)"
            ]
          },
          "metadata": {},
          "execution_count": 6
        }
      ]
    },
    {
      "cell_type": "code",
      "source": [
        "model=Sequential()\n",
        "model.add(Dense(128, activation='relu', input_shape = (2,))) \n",
        "model.add(Dense(64, activation='relu'))\n",
        "model.add(Dense(32, activation='relu'))\n",
        "model.add(Dense(16, activation='relu'))\n",
        "model.add(Dense(8, activation='relu'))\n",
        "model.add(Dense(3,  activation='linear'))\n",
        "model.summary()"
      ],
      "metadata": {
        "colab": {
          "base_uri": "https://localhost:8080/"
        },
        "id": "ffGSsoqmx2nv",
        "outputId": "6fa5975b-29ad-4a22-d111-77c3a78a3634"
      },
      "execution_count": null,
      "outputs": [
        {
          "output_type": "stream",
          "name": "stdout",
          "text": [
            "Model: \"sequential\"\n",
            "_________________________________________________________________\n",
            " Layer (type)                Output Shape              Param #   \n",
            "=================================================================\n",
            " dense (Dense)               (None, 128)               384       \n",
            "                                                                 \n",
            " dense_1 (Dense)             (None, 64)                8256      \n",
            "                                                                 \n",
            " dense_2 (Dense)             (None, 32)                2080      \n",
            "                                                                 \n",
            " dense_3 (Dense)             (None, 16)                528       \n",
            "                                                                 \n",
            " dense_4 (Dense)             (None, 8)                 136       \n",
            "                                                                 \n",
            " dense_5 (Dense)             (None, 3)                 27        \n",
            "                                                                 \n",
            "=================================================================\n",
            "Total params: 11,411\n",
            "Trainable params: 11,411\n",
            "Non-trainable params: 0\n",
            "_________________________________________________________________\n"
          ]
        }
      ]
    },
    {
      "cell_type": "code",
      "source": [
        "model.compile(loss='mse',optimizer=Adam(),metrics=['mean_absolute_error'])\n",
        "history=model.fit(x_train,y_train,batch_size=200,epochs=1000,verbose=1, validation_split=0.2,callbacks=[EarlyStopping(monitor='val_loss',patience=30)]) "
      ],
      "metadata": {
        "colab": {
          "base_uri": "https://localhost:8080/"
        },
        "id": "QVp33b3byBrg",
        "outputId": "9f067044-9522-4ee4-b553-cc767e7e6527"
      },
      "execution_count": null,
      "outputs": [
        {
          "output_type": "stream",
          "name": "stdout",
          "text": [
            "Epoch 1/1000\n",
            "33/33 [==============================] - 1s 9ms/step - loss: 304.7229 - mean_absolute_error: 11.9602 - val_loss: 187.0148 - val_mean_absolute_error: 8.2894\n",
            "Epoch 2/1000\n",
            "33/33 [==============================] - 0s 4ms/step - loss: 152.1962 - mean_absolute_error: 6.8674 - val_loss: 154.9855 - val_mean_absolute_error: 6.4978\n",
            "Epoch 3/1000\n",
            "33/33 [==============================] - 0s 5ms/step - loss: 141.3849 - mean_absolute_error: 6.1880 - val_loss: 151.3573 - val_mean_absolute_error: 6.1623\n",
            "Epoch 4/1000\n",
            "33/33 [==============================] - 0s 5ms/step - loss: 142.1132 - mean_absolute_error: 6.1438 - val_loss: 151.0086 - val_mean_absolute_error: 6.3249\n",
            "Epoch 5/1000\n",
            "33/33 [==============================] - 0s 4ms/step - loss: 142.5986 - mean_absolute_error: 6.1545 - val_loss: 151.3721 - val_mean_absolute_error: 6.3203\n",
            "Epoch 6/1000\n",
            "33/33 [==============================] - 0s 4ms/step - loss: 141.3798 - mean_absolute_error: 6.1309 - val_loss: 153.4725 - val_mean_absolute_error: 6.3370\n",
            "Epoch 7/1000\n",
            "33/33 [==============================] - 0s 5ms/step - loss: 142.9219 - mean_absolute_error: 6.1807 - val_loss: 150.8517 - val_mean_absolute_error: 6.4406\n",
            "Epoch 8/1000\n",
            "33/33 [==============================] - 0s 4ms/step - loss: 145.0443 - mean_absolute_error: 6.4521 - val_loss: 151.2724 - val_mean_absolute_error: 6.4891\n",
            "Epoch 9/1000\n",
            "33/33 [==============================] - 0s 4ms/step - loss: 149.2669 - mean_absolute_error: 6.6807 - val_loss: 170.2975 - val_mean_absolute_error: 7.6921\n",
            "Epoch 10/1000\n",
            "33/33 [==============================] - 0s 4ms/step - loss: 152.7327 - mean_absolute_error: 6.9074 - val_loss: 166.5092 - val_mean_absolute_error: 7.3076\n",
            "Epoch 11/1000\n",
            "33/33 [==============================] - 0s 5ms/step - loss: 148.8850 - mean_absolute_error: 6.7444 - val_loss: 153.7504 - val_mean_absolute_error: 6.5541\n",
            "Epoch 12/1000\n",
            "33/33 [==============================] - 0s 4ms/step - loss: 146.6032 - mean_absolute_error: 6.4869 - val_loss: 168.2146 - val_mean_absolute_error: 7.6144\n",
            "Epoch 13/1000\n",
            "33/33 [==============================] - 0s 5ms/step - loss: 145.0329 - mean_absolute_error: 6.5009 - val_loss: 157.3032 - val_mean_absolute_error: 6.8470\n",
            "Epoch 14/1000\n",
            "33/33 [==============================] - 0s 5ms/step - loss: 143.8779 - mean_absolute_error: 6.3051 - val_loss: 152.2712 - val_mean_absolute_error: 6.3644\n",
            "Epoch 15/1000\n",
            "33/33 [==============================] - 0s 4ms/step - loss: 143.7968 - mean_absolute_error: 6.3324 - val_loss: 150.0612 - val_mean_absolute_error: 6.3390\n",
            "Epoch 16/1000\n",
            "33/33 [==============================] - 0s 4ms/step - loss: 145.2751 - mean_absolute_error: 6.3932 - val_loss: 151.4713 - val_mean_absolute_error: 6.4033\n",
            "Epoch 17/1000\n",
            "33/33 [==============================] - 0s 5ms/step - loss: 145.7072 - mean_absolute_error: 6.4369 - val_loss: 151.5319 - val_mean_absolute_error: 6.3760\n",
            "Epoch 18/1000\n",
            "33/33 [==============================] - 0s 4ms/step - loss: 143.9753 - mean_absolute_error: 6.3095 - val_loss: 150.4268 - val_mean_absolute_error: 6.2298\n",
            "Epoch 19/1000\n",
            "33/33 [==============================] - 0s 5ms/step - loss: 144.4636 - mean_absolute_error: 6.3296 - val_loss: 160.5154 - val_mean_absolute_error: 7.0658\n",
            "Epoch 20/1000\n",
            "33/33 [==============================] - 0s 4ms/step - loss: 144.0620 - mean_absolute_error: 6.3131 - val_loss: 151.4306 - val_mean_absolute_error: 6.3572\n",
            "Epoch 21/1000\n",
            "33/33 [==============================] - 0s 4ms/step - loss: 146.3551 - mean_absolute_error: 6.5282 - val_loss: 155.9696 - val_mean_absolute_error: 6.7475\n",
            "Epoch 22/1000\n",
            "33/33 [==============================] - 0s 5ms/step - loss: 145.1821 - mean_absolute_error: 6.4903 - val_loss: 152.5404 - val_mean_absolute_error: 6.2082\n",
            "Epoch 23/1000\n",
            "33/33 [==============================] - 0s 5ms/step - loss: 144.8346 - mean_absolute_error: 6.3533 - val_loss: 152.1651 - val_mean_absolute_error: 6.4811\n",
            "Epoch 24/1000\n",
            "33/33 [==============================] - 0s 4ms/step - loss: 144.4035 - mean_absolute_error: 6.3575 - val_loss: 154.1277 - val_mean_absolute_error: 6.6647\n",
            "Epoch 25/1000\n",
            "33/33 [==============================] - 0s 4ms/step - loss: 147.7878 - mean_absolute_error: 6.5923 - val_loss: 150.4335 - val_mean_absolute_error: 6.3326\n",
            "Epoch 26/1000\n",
            "33/33 [==============================] - 0s 5ms/step - loss: 143.2508 - mean_absolute_error: 6.3150 - val_loss: 151.5042 - val_mean_absolute_error: 6.3627\n",
            "Epoch 27/1000\n",
            "33/33 [==============================] - 0s 4ms/step - loss: 149.2019 - mean_absolute_error: 6.6335 - val_loss: 155.4526 - val_mean_absolute_error: 6.5690\n",
            "Epoch 28/1000\n",
            "33/33 [==============================] - 0s 4ms/step - loss: 145.7133 - mean_absolute_error: 6.4751 - val_loss: 148.6453 - val_mean_absolute_error: 6.0990\n",
            "Epoch 29/1000\n",
            "33/33 [==============================] - 0s 4ms/step - loss: 143.6193 - mean_absolute_error: 6.2569 - val_loss: 155.5513 - val_mean_absolute_error: 6.6207\n",
            "Epoch 30/1000\n",
            "33/33 [==============================] - 0s 5ms/step - loss: 145.1322 - mean_absolute_error: 6.4506 - val_loss: 150.6096 - val_mean_absolute_error: 6.2390\n",
            "Epoch 31/1000\n",
            "33/33 [==============================] - 0s 5ms/step - loss: 143.1169 - mean_absolute_error: 6.2567 - val_loss: 149.8078 - val_mean_absolute_error: 6.2150\n",
            "Epoch 32/1000\n",
            "33/33 [==============================] - 0s 5ms/step - loss: 142.6769 - mean_absolute_error: 6.2115 - val_loss: 152.5847 - val_mean_absolute_error: 6.4693\n",
            "Epoch 33/1000\n",
            "33/33 [==============================] - 0s 4ms/step - loss: 142.0401 - mean_absolute_error: 6.2250 - val_loss: 177.0600 - val_mean_absolute_error: 8.1221\n",
            "Epoch 34/1000\n",
            "33/33 [==============================] - 0s 4ms/step - loss: 142.5750 - mean_absolute_error: 6.2495 - val_loss: 148.7335 - val_mean_absolute_error: 6.1764\n",
            "Epoch 35/1000\n",
            "33/33 [==============================] - 0s 4ms/step - loss: 142.9629 - mean_absolute_error: 6.2130 - val_loss: 170.0991 - val_mean_absolute_error: 7.8140\n",
            "Epoch 36/1000\n",
            "33/33 [==============================] - 0s 4ms/step - loss: 144.2200 - mean_absolute_error: 6.3120 - val_loss: 152.7534 - val_mean_absolute_error: 6.2979\n",
            "Epoch 37/1000\n",
            "33/33 [==============================] - 0s 5ms/step - loss: 142.2928 - mean_absolute_error: 6.1731 - val_loss: 150.9523 - val_mean_absolute_error: 6.4203\n",
            "Epoch 38/1000\n",
            "33/33 [==============================] - 0s 5ms/step - loss: 142.2200 - mean_absolute_error: 6.1615 - val_loss: 160.0052 - val_mean_absolute_error: 7.0665\n",
            "Epoch 39/1000\n",
            "33/33 [==============================] - 0s 4ms/step - loss: 144.0038 - mean_absolute_error: 6.3192 - val_loss: 154.3352 - val_mean_absolute_error: 6.3973\n",
            "Epoch 40/1000\n",
            "33/33 [==============================] - 0s 5ms/step - loss: 144.2989 - mean_absolute_error: 6.3049 - val_loss: 161.0516 - val_mean_absolute_error: 7.2018\n",
            "Epoch 41/1000\n",
            "33/33 [==============================] - 0s 4ms/step - loss: 150.0655 - mean_absolute_error: 6.7241 - val_loss: 156.3107 - val_mean_absolute_error: 6.6359\n",
            "Epoch 42/1000\n",
            "33/33 [==============================] - 0s 4ms/step - loss: 143.3066 - mean_absolute_error: 6.3362 - val_loss: 152.6961 - val_mean_absolute_error: 6.4614\n",
            "Epoch 43/1000\n",
            "33/33 [==============================] - 0s 5ms/step - loss: 144.8609 - mean_absolute_error: 6.3717 - val_loss: 150.8095 - val_mean_absolute_error: 6.3062\n",
            "Epoch 44/1000\n",
            "33/33 [==============================] - 0s 4ms/step - loss: 144.4332 - mean_absolute_error: 6.2857 - val_loss: 152.9396 - val_mean_absolute_error: 6.5314\n",
            "Epoch 45/1000\n",
            "33/33 [==============================] - 0s 5ms/step - loss: 141.7418 - mean_absolute_error: 6.1176 - val_loss: 154.0745 - val_mean_absolute_error: 6.5724\n",
            "Epoch 46/1000\n",
            "33/33 [==============================] - 0s 5ms/step - loss: 142.9332 - mean_absolute_error: 6.2383 - val_loss: 156.3600 - val_mean_absolute_error: 6.6719\n",
            "Epoch 47/1000\n",
            "33/33 [==============================] - 0s 5ms/step - loss: 147.3552 - mean_absolute_error: 6.5773 - val_loss: 155.4827 - val_mean_absolute_error: 6.8502\n",
            "Epoch 48/1000\n",
            "33/33 [==============================] - 0s 4ms/step - loss: 144.6462 - mean_absolute_error: 6.3713 - val_loss: 149.4577 - val_mean_absolute_error: 6.2603\n",
            "Epoch 49/1000\n",
            "33/33 [==============================] - 0s 4ms/step - loss: 144.0266 - mean_absolute_error: 6.3542 - val_loss: 152.1022 - val_mean_absolute_error: 6.3328\n",
            "Epoch 50/1000\n",
            "33/33 [==============================] - 0s 4ms/step - loss: 146.1042 - mean_absolute_error: 6.4328 - val_loss: 152.5996 - val_mean_absolute_error: 6.5754\n",
            "Epoch 51/1000\n",
            "33/33 [==============================] - 0s 4ms/step - loss: 151.4553 - mean_absolute_error: 6.8510 - val_loss: 172.6453 - val_mean_absolute_error: 7.7062\n",
            "Epoch 52/1000\n",
            "33/33 [==============================] - 0s 4ms/step - loss: 146.4909 - mean_absolute_error: 6.4799 - val_loss: 159.5152 - val_mean_absolute_error: 7.0090\n",
            "Epoch 53/1000\n",
            "33/33 [==============================] - 0s 5ms/step - loss: 142.9102 - mean_absolute_error: 6.2529 - val_loss: 150.4448 - val_mean_absolute_error: 6.2861\n",
            "Epoch 54/1000\n",
            "33/33 [==============================] - 0s 4ms/step - loss: 143.5922 - mean_absolute_error: 6.2596 - val_loss: 150.7059 - val_mean_absolute_error: 6.2624\n",
            "Epoch 55/1000\n",
            "33/33 [==============================] - 0s 5ms/step - loss: 146.4814 - mean_absolute_error: 6.4814 - val_loss: 151.0686 - val_mean_absolute_error: 6.3006\n",
            "Epoch 56/1000\n",
            "33/33 [==============================] - 0s 4ms/step - loss: 142.4424 - mean_absolute_error: 6.2427 - val_loss: 155.1255 - val_mean_absolute_error: 6.6049\n",
            "Epoch 57/1000\n",
            "33/33 [==============================] - 0s 4ms/step - loss: 146.7298 - mean_absolute_error: 6.5350 - val_loss: 150.1660 - val_mean_absolute_error: 6.3136\n",
            "Epoch 58/1000\n",
            "33/33 [==============================] - 0s 4ms/step - loss: 145.2052 - mean_absolute_error: 6.4463 - val_loss: 157.7122 - val_mean_absolute_error: 6.6806\n"
          ]
        }
      ]
    },
    {
      "cell_type": "code",
      "source": [
        "score=model.evaluate(x_test,y_test,verbose=0)\n",
        "print('Test loss:',score[0])\n",
        "print('Test mae:',score[1])"
      ],
      "metadata": {
        "colab": {
          "base_uri": "https://localhost:8080/"
        },
        "id": "njUw7FNZyK5E",
        "outputId": "6c9af40c-4fb3-4591-9991-24338a670936"
      },
      "execution_count": null,
      "outputs": [
        {
          "output_type": "stream",
          "name": "stdout",
          "text": [
            "Test loss: 142.5334930419922\n",
            "Test mae: 6.413700103759766\n"
          ]
        }
      ]
    },
    {
      "cell_type": "code",
      "source": [
        "plt.plot(history.history['mean_absolute_error'])\n",
        "plt.plot(history.history['val_mean_absolute_error'])\n",
        "plt.title('MODEL MEAN ABSOLUTE ERROR')\n",
        "plt.ylabel('Mean absolute error')\n",
        "plt.xlabel('Epoch')\n",
        "plt.legend(['Train','Validation'])\n",
        "plt.show()"
      ],
      "metadata": {
        "colab": {
          "base_uri": "https://localhost:8080/",
          "height": 295
        },
        "id": "79tRErnhyXzs",
        "outputId": "5f35d67e-a373-4215-884d-03c42cb97467"
      },
      "execution_count": null,
      "outputs": [
        {
          "output_type": "display_data",
          "data": {
            "text/plain": [
              "<Figure size 432x288 with 1 Axes>"
            ],
            "image/png": "[encoded data removed]"
          },
          "metadata": {
            "needs_background": "light"
          }
        }
      ]
    },
    {
      "cell_type": "code",
      "source": [
        "y_pred=model.predict(x_test)"
      ],
      "metadata": {
        "id": "Mt-Cli0dygHn"
      },
      "execution_count": null,
      "outputs": []
    },
    {
      "cell_type": "code",
      "source": [
        "y_pred[300]"
      ],
      "metadata": {
        "colab": {
          "base_uri": "https://localhost:8080/"
        },
        "id": "AuXgl5MUyg_O",
        "outputId": "5a1a8486-3d2c-45ce-967e-a521c71e1aad"
      },
      "execution_count": null,
      "outputs": [
        {
          "output_type": "execute_result",
          "data": {
            "text/plain": [
              "array([  6.8956676,   5.983489 , 168.2682   ], dtype=float32)"
            ]
          },
          "metadata": {},
          "execution_count": 13
        }
      ]
    },
    {
      "cell_type": "code",
      "source": [
        "y_test[300]"
      ],
      "metadata": {
        "id": "M0RnsRdqylPK",
        "outputId": "daca076a-082c-44c9-de9a-0b9567a38aee",
        "colab": {
          "base_uri": "https://localhost:8080/"
        }
      },
      "execution_count": null,
      "outputs": [
        {
          "output_type": "execute_result",
          "data": {
            "text/plain": [
              "array([  8.,   0., 172.])"
            ]
          },
          "metadata": {},
          "execution_count": 14
        }
      ]
    },
    {
      "cell_type": "code",
      "source": [
        ""
      ],
      "metadata": {
        "id": "yWVuz1V9ym9g"
      },
      "execution_count": null,
      "outputs": []
    }
  ]
}