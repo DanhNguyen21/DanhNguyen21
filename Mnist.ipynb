{
  "nbformat": 4,
  "nbformat_minor": 0,
  "metadata": {
    "colab": {
      "name": "Mnist.ipynb",
      "provenance": [],
      "toc_visible": true,
      "collapsed_sections": [],
      "include_colab_link": true
    },
    "kernelspec": {
      "name": "python3",
      "display_name": "Python 3"
    },
    "language_info": {
      "name": "python"
    }
  },
  "cells": [
    {
      "cell_type": "markdown",
      "metadata": {
        "id": "view-in-github",
        "colab_type": "text"
      },
      "source": [
        "<a href=\"https://colab.research.google.com/github/DanhNguyen21/DanhNguyen21/blob/main/Mnist.ipynb\" target=\"_parent\"><img src=\"https://colab.research.google.com/assets/colab-badge.svg\" alt=\"Open In Colab\"/></a>"
      ]
    },
    {
      "cell_type": "code",
      "execution_count": null,
      "metadata": {
        "id": "13r5h0zakuvM"
      },
      "outputs": [],
      "source": [
        "#Load library\n",
        "import numpy as np #thư viện xử lý ma trận\n",
        "from keras.utils import np_utils # thư viện xử lý chuyển class\n",
        "from keras.datasets import mnist # gọi tập dataset chữ số viết tay\n",
        "from keras.models import Sequential # hàm chạy mô hình\n",
        "from keras.layers import Dense, Dropout # tạo mạng nơ ron\n",
        "from tensorflow.keras.optimizers import RMSprop \n",
        "import matplotlib.pyplot as plt  # thư viện dùng để vẽ"
      ]
    },
    {
      "cell_type": "code",
      "source": [
        "# chia tập dữ liệu thành 2 bộ train và test\n",
        "(x_train, y_train),(x_test,y_test) = mnist.load_data()\n"
      ],
      "metadata": {
        "colab": {
          "base_uri": "https://localhost:8080/"
        },
        "id": "0JVjvDQ9luMZ",
        "outputId": "3f1da6eb-8aa6-4d2f-ba98-673a7eb65682"
      },
      "execution_count": null,
      "outputs": [
        {
          "output_type": "stream",
          "name": "stdout",
          "text": [
            "Downloading data from https://storage.googleapis.com/tensorflow/tf-keras-datasets/mnist.npz\n",
            "11493376/11490434 [==============================] - 0s 0us/step\n",
            "11501568/11490434 [==============================] - 0s 0us/step\n"
          ]
        }
      ]
    },
    {
      "cell_type": "code",
      "source": [
        "# xem kích thược của tập dữ liệu\n",
        "print('Kích thước x_train: ', x_train.shape)\n",
        "print('Kích thước y_train: ', y_train.shape)\n",
        "print('Kích thước x_test: ', x_test.shape)\n",
        "print('Kích thước y_test: ', y_test.shape)"
      ],
      "metadata": {
        "colab": {
          "base_uri": "https://localhost:8080/"
        },
        "id": "W4iCnKqAlz0s",
        "outputId": "0395a572-fbdb-494b-b6ee-c54196761222"
      },
      "execution_count": null,
      "outputs": [
        {
          "output_type": "stream",
          "name": "stdout",
          "text": [
            "Kích thước x_train:  (60000, 28, 28)\n",
            "Kích thước y_train:  (60000,)\n",
            "Kích thước x_test:  (10000, 28, 28)\n",
            "Kích thước y_test:  (10000,)\n"
          ]
        }
      ]
    },
    {
      "cell_type": "code",
      "source": [
        "#chuyển chiều của x từ 3 chiều về 2 chiều\n",
        "x_train = x_train.reshape(60000,784)\n",
        "x_test = x_test.reshape(10000,784)\n",
        "# ép kiểu\n",
        "x_train = x_train.astype('float32')\n",
        "x_test = x_test.astype('float32')\n",
        "#chuẩn hóa dữ liệu\n",
        "x_train /=255\n",
        "x_test /=255\n",
        "#chuyển y từ 1 class thành 10 class\n",
        "y_train = np_utils.to_categorical(y_train,10)\n",
        "y_test = np_utils.to_categorical(y_test,10)"
      ],
      "metadata": {
        "id": "zM8yqvial9Hy"
      },
      "execution_count": null,
      "outputs": []
    },
    {
      "cell_type": "code",
      "source": [
        "y_train.shape"
      ],
      "metadata": {
        "colab": {
          "base_uri": "https://localhost:8080/"
        },
        "id": "usMLeuVqmLkj",
        "outputId": "7f8318af-d938-4b5c-8a13-ceef5f39099d"
      },
      "execution_count": null,
      "outputs": [
        {
          "output_type": "execute_result",
          "data": {
            "text/plain": [
              "(60000, 10)"
            ]
          },
          "metadata": {},
          "execution_count": 6
        }
      ]
    },
    {
      "cell_type": "code",
      "source": [
        "y_test.shape"
      ],
      "metadata": {
        "colab": {
          "base_uri": "https://localhost:8080/"
        },
        "id": "Tp9GXzXxmWsk",
        "outputId": "23ef8342-f034-4027-cdaf-32eb16d63ba3"
      },
      "execution_count": null,
      "outputs": [
        {
          "output_type": "execute_result",
          "data": {
            "text/plain": [
              "(10000, 10)"
            ]
          },
          "metadata": {},
          "execution_count": 7
        }
      ]
    },
    {
      "cell_type": "code",
      "source": [
        "#tạo mạng nơ-ron\n",
        "model = Sequential()\n",
        "model.add(Dense(512,activation='relu',input_shape=(784,)))\n",
        "model.add(Dropout(0.2))\n",
        "model.add(Dense(512,activation='relu'))\n",
        "model.add(Dropout(0.2))\n",
        "model.add(Dense(10,activation='softmax'))\n",
        "model.summary()"
      ],
      "metadata": {
        "colab": {
          "base_uri": "https://localhost:8080/"
        },
        "id": "wXoL6NgNmY65",
        "outputId": "51493266-4140-46af-b37d-c917e2955763"
      },
      "execution_count": null,
      "outputs": [
        {
          "output_type": "stream",
          "name": "stdout",
          "text": [
            "Model: \"sequential_1\"\n",
            "_________________________________________________________________\n",
            " Layer (type)                Output Shape              Param #   \n",
            "=================================================================\n",
            " dense_3 (Dense)             (None, 512)               401920    \n",
            "                                                                 \n",
            " dropout_2 (Dropout)         (None, 512)               0         \n",
            "                                                                 \n",
            " dense_4 (Dense)             (None, 512)               262656    \n",
            "                                                                 \n",
            " dropout_3 (Dropout)         (None, 512)               0         \n",
            "                                                                 \n",
            " dense_5 (Dense)             (None, 10)                5130      \n",
            "                                                                 \n",
            "=================================================================\n",
            "Total params: 669,706\n",
            "Trainable params: 669,706\n",
            "Non-trainable params: 0\n",
            "_________________________________________________________________\n"
          ]
        }
      ]
    },
    {
      "cell_type": "code",
      "source": [
        "#chạy model với số lần học là 500 và độ kiên nhẫn là 100\n",
        "model.compile(loss='categorical_crossentropy',optimizer=RMSprop(), metrics=['accuracy'])\n",
        "model.compile(loss='categorical_crossentropy',optimizer=RMSprop(), metrics=['accuracy'])\n",
        "from keras.callbacks import EarlyStopping\n",
        "history = model.fit(x_train,y_train,batch_size=128,epochs=500,verbose=1,\n",
        "                    validation_split=0.2,callbacks=[EarlyStopping(monitor='val_loss',patience=100)])"
      ],
      "metadata": {
        "colab": {
          "base_uri": "https://localhost:8080/"
        },
        "id": "qMb7AiHZmcQJ",
        "outputId": "564685c0-dae2-4320-bce2-adc2b1a56e69"
      },
      "execution_count": null,
      "outputs": [
        {
          "output_type": "stream",
          "name": "stdout",
          "text": [
            "Epoch 1/500\n",
            "375/375 [==============================] - 9s 20ms/step - loss: 0.2768 - accuracy: 0.9153 - val_loss: 0.1172 - val_accuracy: 0.9665\n",
            "Epoch 2/500\n",
            "375/375 [==============================] - 7s 19ms/step - loss: 0.1123 - accuracy: 0.9662 - val_loss: 0.0973 - val_accuracy: 0.9703\n",
            "Epoch 3/500\n",
            "375/375 [==============================] - 8s 20ms/step - loss: 0.0792 - accuracy: 0.9760 - val_loss: 0.0827 - val_accuracy: 0.9768\n",
            "Epoch 4/500\n",
            "375/375 [==============================] - 7s 20ms/step - loss: 0.0618 - accuracy: 0.9806 - val_loss: 0.0864 - val_accuracy: 0.9772\n",
            "Epoch 5/500\n",
            "375/375 [==============================] - 7s 19ms/step - loss: 0.0501 - accuracy: 0.9845 - val_loss: 0.0934 - val_accuracy: 0.9758\n",
            "Epoch 6/500\n",
            "375/375 [==============================] - 7s 20ms/step - loss: 0.0424 - accuracy: 0.9869 - val_loss: 0.1042 - val_accuracy: 0.9765\n",
            "Epoch 7/500\n",
            "375/375 [==============================] - 8s 20ms/step - loss: 0.0400 - accuracy: 0.9876 - val_loss: 0.1034 - val_accuracy: 0.9783\n",
            "Epoch 8/500\n",
            "375/375 [==============================] - 8s 20ms/step - loss: 0.0322 - accuracy: 0.9897 - val_loss: 0.1207 - val_accuracy: 0.9775\n",
            "Epoch 9/500\n",
            "375/375 [==============================] - 7s 19ms/step - loss: 0.0284 - accuracy: 0.9911 - val_loss: 0.1106 - val_accuracy: 0.9790\n",
            "Epoch 10/500\n",
            "375/375 [==============================] - 8s 20ms/step - loss: 0.0259 - accuracy: 0.9917 - val_loss: 0.1156 - val_accuracy: 0.9793\n",
            "Epoch 11/500\n",
            "375/375 [==============================] - 7s 20ms/step - loss: 0.0275 - accuracy: 0.9921 - val_loss: 0.1153 - val_accuracy: 0.9794\n",
            "Epoch 12/500\n",
            "375/375 [==============================] - 8s 21ms/step - loss: 0.0222 - accuracy: 0.9928 - val_loss: 0.1116 - val_accuracy: 0.9803\n",
            "Epoch 13/500\n",
            "375/375 [==============================] - 8s 20ms/step - loss: 0.0215 - accuracy: 0.9934 - val_loss: 0.1273 - val_accuracy: 0.9803\n",
            "Epoch 14/500\n",
            "375/375 [==============================] - 7s 20ms/step - loss: 0.0206 - accuracy: 0.9942 - val_loss: 0.1364 - val_accuracy: 0.9796\n",
            "Epoch 15/500\n",
            "375/375 [==============================] - 7s 20ms/step - loss: 0.0168 - accuracy: 0.9951 - val_loss: 0.1288 - val_accuracy: 0.9813\n",
            "Epoch 16/500\n",
            "375/375 [==============================] - 7s 20ms/step - loss: 0.0183 - accuracy: 0.9946 - val_loss: 0.1408 - val_accuracy: 0.9799\n",
            "Epoch 17/500\n",
            "375/375 [==============================] - 7s 19ms/step - loss: 0.0164 - accuracy: 0.9950 - val_loss: 0.1468 - val_accuracy: 0.9802\n",
            "Epoch 18/500\n",
            "375/375 [==============================] - 8s 21ms/step - loss: 0.0161 - accuracy: 0.9957 - val_loss: 0.1798 - val_accuracy: 0.9777\n",
            "Epoch 19/500\n",
            "375/375 [==============================] - 7s 19ms/step - loss: 0.0191 - accuracy: 0.9950 - val_loss: 0.1493 - val_accuracy: 0.9806\n",
            "Epoch 20/500\n",
            "375/375 [==============================] - 7s 19ms/step - loss: 0.0151 - accuracy: 0.9957 - val_loss: 0.1595 - val_accuracy: 0.9804\n",
            "Epoch 21/500\n",
            "375/375 [==============================] - 8s 20ms/step - loss: 0.0132 - accuracy: 0.9963 - val_loss: 0.1575 - val_accuracy: 0.9818\n",
            "Epoch 22/500\n",
            "375/375 [==============================] - 8s 20ms/step - loss: 0.0130 - accuracy: 0.9967 - val_loss: 0.1695 - val_accuracy: 0.9801\n",
            "Epoch 23/500\n",
            "375/375 [==============================] - 8s 20ms/step - loss: 0.0135 - accuracy: 0.9964 - val_loss: 0.1666 - val_accuracy: 0.9804\n",
            "Epoch 24/500\n",
            "375/375 [==============================] - 7s 20ms/step - loss: 0.0121 - accuracy: 0.9971 - val_loss: 0.1682 - val_accuracy: 0.9818\n",
            "Epoch 25/500\n",
            "375/375 [==============================] - 7s 19ms/step - loss: 0.0120 - accuracy: 0.9966 - val_loss: 0.1848 - val_accuracy: 0.9794\n",
            "Epoch 26/500\n",
            "375/375 [==============================] - 7s 19ms/step - loss: 0.0115 - accuracy: 0.9969 - val_loss: 0.1798 - val_accuracy: 0.9829\n",
            "Epoch 27/500\n",
            "375/375 [==============================] - 8s 20ms/step - loss: 0.0100 - accuracy: 0.9972 - val_loss: 0.1817 - val_accuracy: 0.9803\n",
            "Epoch 28/500\n",
            "375/375 [==============================] - 7s 19ms/step - loss: 0.0124 - accuracy: 0.9970 - val_loss: 0.1857 - val_accuracy: 0.9808\n",
            "Epoch 29/500\n",
            "375/375 [==============================] - 8s 21ms/step - loss: 0.0098 - accuracy: 0.9976 - val_loss: 0.1729 - val_accuracy: 0.9827\n",
            "Epoch 30/500\n",
            "375/375 [==============================] - 7s 20ms/step - loss: 0.0096 - accuracy: 0.9974 - val_loss: 0.2044 - val_accuracy: 0.9803\n",
            "Epoch 31/500\n",
            "375/375 [==============================] - 7s 19ms/step - loss: 0.0134 - accuracy: 0.9970 - val_loss: 0.1882 - val_accuracy: 0.9807\n",
            "Epoch 32/500\n",
            "375/375 [==============================] - 7s 19ms/step - loss: 0.0124 - accuracy: 0.9969 - val_loss: 0.1852 - val_accuracy: 0.9814\n",
            "Epoch 33/500\n",
            "375/375 [==============================] - 7s 20ms/step - loss: 0.0109 - accuracy: 0.9977 - val_loss: 0.1989 - val_accuracy: 0.9815\n",
            "Epoch 34/500\n",
            "375/375 [==============================] - 7s 20ms/step - loss: 0.0108 - accuracy: 0.9974 - val_loss: 0.2111 - val_accuracy: 0.9797\n",
            "Epoch 35/500\n",
            "375/375 [==============================] - 8s 21ms/step - loss: 0.0097 - accuracy: 0.9975 - val_loss: 0.2143 - val_accuracy: 0.9800\n",
            "Epoch 36/500\n",
            "375/375 [==============================] - 8s 21ms/step - loss: 0.0091 - accuracy: 0.9979 - val_loss: 0.2113 - val_accuracy: 0.9810\n",
            "Epoch 37/500\n",
            "375/375 [==============================] - 8s 21ms/step - loss: 0.0099 - accuracy: 0.9978 - val_loss: 0.2175 - val_accuracy: 0.9812\n",
            "Epoch 38/500\n",
            "375/375 [==============================] - 8s 21ms/step - loss: 0.0111 - accuracy: 0.9977 - val_loss: 0.2192 - val_accuracy: 0.9808\n",
            "Epoch 39/500\n",
            "375/375 [==============================] - 8s 20ms/step - loss: 0.0102 - accuracy: 0.9977 - val_loss: 0.1947 - val_accuracy: 0.9818\n",
            "Epoch 40/500\n",
            "375/375 [==============================] - 8s 20ms/step - loss: 0.0075 - accuracy: 0.9985 - val_loss: 0.2025 - val_accuracy: 0.9817\n",
            "Epoch 41/500\n",
            "375/375 [==============================] - 8s 20ms/step - loss: 0.0098 - accuracy: 0.9979 - val_loss: 0.2316 - val_accuracy: 0.9809\n",
            "Epoch 42/500\n",
            "375/375 [==============================] - 7s 20ms/step - loss: 0.0069 - accuracy: 0.9979 - val_loss: 0.2515 - val_accuracy: 0.9803\n",
            "Epoch 43/500\n",
            "375/375 [==============================] - 7s 20ms/step - loss: 0.0095 - accuracy: 0.9978 - val_loss: 0.2234 - val_accuracy: 0.9826\n",
            "Epoch 44/500\n",
            "375/375 [==============================] - 7s 19ms/step - loss: 0.0099 - accuracy: 0.9978 - val_loss: 0.2334 - val_accuracy: 0.9801\n",
            "Epoch 45/500\n",
            "375/375 [==============================] - 7s 19ms/step - loss: 0.0099 - accuracy: 0.9979 - val_loss: 0.2289 - val_accuracy: 0.9822\n",
            "Epoch 46/500\n",
            "375/375 [==============================] - 7s 20ms/step - loss: 0.0106 - accuracy: 0.9976 - val_loss: 0.2246 - val_accuracy: 0.9819\n",
            "Epoch 47/500\n",
            "375/375 [==============================] - 7s 19ms/step - loss: 0.0083 - accuracy: 0.9980 - val_loss: 0.2266 - val_accuracy: 0.9816\n",
            "Epoch 48/500\n",
            "375/375 [==============================] - 7s 20ms/step - loss: 0.0083 - accuracy: 0.9980 - val_loss: 0.2256 - val_accuracy: 0.9817\n",
            "Epoch 49/500\n",
            "375/375 [==============================] - 8s 21ms/step - loss: 0.0093 - accuracy: 0.9979 - val_loss: 0.2255 - val_accuracy: 0.9812\n",
            "Epoch 50/500\n",
            "375/375 [==============================] - 7s 20ms/step - loss: 0.0088 - accuracy: 0.9976 - val_loss: 0.2453 - val_accuracy: 0.9813\n",
            "Epoch 51/500\n",
            "375/375 [==============================] - 8s 20ms/step - loss: 0.0070 - accuracy: 0.9982 - val_loss: 0.2404 - val_accuracy: 0.9822\n",
            "Epoch 52/500\n",
            "375/375 [==============================] - 8s 21ms/step - loss: 0.0092 - accuracy: 0.9979 - val_loss: 0.2386 - val_accuracy: 0.9822\n",
            "Epoch 53/500\n",
            "375/375 [==============================] - 7s 20ms/step - loss: 0.0096 - accuracy: 0.9976 - val_loss: 0.2393 - val_accuracy: 0.9826\n",
            "Epoch 54/500\n",
            "375/375 [==============================] - 8s 20ms/step - loss: 0.0086 - accuracy: 0.9979 - val_loss: 0.2346 - val_accuracy: 0.9826\n",
            "Epoch 55/500\n",
            "375/375 [==============================] - 8s 20ms/step - loss: 0.0089 - accuracy: 0.9980 - val_loss: 0.2283 - val_accuracy: 0.9822\n",
            "Epoch 56/500\n",
            "375/375 [==============================] - 7s 20ms/step - loss: 0.0088 - accuracy: 0.9981 - val_loss: 0.2458 - val_accuracy: 0.9819\n",
            "Epoch 57/500\n",
            "375/375 [==============================] - 8s 21ms/step - loss: 0.0071 - accuracy: 0.9984 - val_loss: 0.2420 - val_accuracy: 0.9818\n",
            "Epoch 58/500\n",
            "375/375 [==============================] - 7s 20ms/step - loss: 0.0087 - accuracy: 0.9980 - val_loss: 0.2608 - val_accuracy: 0.9788\n",
            "Epoch 59/500\n",
            "375/375 [==============================] - 8s 21ms/step - loss: 0.0076 - accuracy: 0.9982 - val_loss: 0.2678 - val_accuracy: 0.9806\n",
            "Epoch 60/500\n",
            "375/375 [==============================] - 7s 19ms/step - loss: 0.0081 - accuracy: 0.9981 - val_loss: 0.2715 - val_accuracy: 0.9818\n",
            "Epoch 61/500\n",
            "375/375 [==============================] - 7s 20ms/step - loss: 0.0090 - accuracy: 0.9984 - val_loss: 0.2488 - val_accuracy: 0.9829\n",
            "Epoch 62/500\n",
            "375/375 [==============================] - 7s 20ms/step - loss: 0.0074 - accuracy: 0.9985 - val_loss: 0.2601 - val_accuracy: 0.9815\n",
            "Epoch 63/500\n",
            "375/375 [==============================] - 7s 20ms/step - loss: 0.0079 - accuracy: 0.9985 - val_loss: 0.2371 - val_accuracy: 0.9826\n",
            "Epoch 64/500\n",
            "375/375 [==============================] - 7s 19ms/step - loss: 0.0054 - accuracy: 0.9987 - val_loss: 0.2631 - val_accuracy: 0.9822\n",
            "Epoch 65/500\n",
            "375/375 [==============================] - 8s 20ms/step - loss: 0.0061 - accuracy: 0.9988 - val_loss: 0.2552 - val_accuracy: 0.9831\n",
            "Epoch 66/500\n",
            "375/375 [==============================] - 7s 19ms/step - loss: 0.0047 - accuracy: 0.9987 - val_loss: 0.2874 - val_accuracy: 0.9825\n",
            "Epoch 67/500\n",
            "375/375 [==============================] - 8s 21ms/step - loss: 0.0100 - accuracy: 0.9983 - val_loss: 0.2512 - val_accuracy: 0.9827\n",
            "Epoch 68/500\n",
            "375/375 [==============================] - 7s 20ms/step - loss: 0.0067 - accuracy: 0.9987 - val_loss: 0.2595 - val_accuracy: 0.9822\n",
            "Epoch 69/500\n",
            "375/375 [==============================] - 7s 20ms/step - loss: 0.0107 - accuracy: 0.9981 - val_loss: 0.2591 - val_accuracy: 0.9822\n",
            "Epoch 70/500\n",
            "375/375 [==============================] - 7s 20ms/step - loss: 0.0067 - accuracy: 0.9984 - val_loss: 0.2626 - val_accuracy: 0.9827\n",
            "Epoch 71/500\n",
            "375/375 [==============================] - 7s 20ms/step - loss: 0.0068 - accuracy: 0.9988 - val_loss: 0.2825 - val_accuracy: 0.9818\n",
            "Epoch 72/500\n",
            "375/375 [==============================] - 8s 20ms/step - loss: 0.0079 - accuracy: 0.9986 - val_loss: 0.3082 - val_accuracy: 0.9818\n",
            "Epoch 73/500\n",
            "375/375 [==============================] - 8s 21ms/step - loss: 0.0087 - accuracy: 0.9982 - val_loss: 0.2823 - val_accuracy: 0.9825\n",
            "Epoch 74/500\n",
            "375/375 [==============================] - 7s 19ms/step - loss: 0.0064 - accuracy: 0.9986 - val_loss: 0.2795 - val_accuracy: 0.9821\n",
            "Epoch 75/500\n",
            "375/375 [==============================] - 7s 19ms/step - loss: 0.0059 - accuracy: 0.9987 - val_loss: 0.2933 - val_accuracy: 0.9822\n",
            "Epoch 76/500\n",
            "375/375 [==============================] - 7s 20ms/step - loss: 0.0059 - accuracy: 0.9986 - val_loss: 0.2982 - val_accuracy: 0.9827\n",
            "Epoch 77/500\n",
            "375/375 [==============================] - 7s 20ms/step - loss: 0.0048 - accuracy: 0.9989 - val_loss: 0.2748 - val_accuracy: 0.9825\n",
            "Epoch 78/500\n",
            "375/375 [==============================] - 7s 20ms/step - loss: 0.0072 - accuracy: 0.9986 - val_loss: 0.2916 - val_accuracy: 0.9824\n",
            "Epoch 79/500\n",
            "375/375 [==============================] - 7s 20ms/step - loss: 0.0045 - accuracy: 0.9990 - val_loss: 0.2792 - val_accuracy: 0.9833\n",
            "Epoch 80/500\n",
            "375/375 [==============================] - 8s 20ms/step - loss: 0.0061 - accuracy: 0.9988 - val_loss: 0.2698 - val_accuracy: 0.9833\n",
            "Epoch 81/500\n",
            "375/375 [==============================] - 8s 21ms/step - loss: 0.0061 - accuracy: 0.9989 - val_loss: 0.3093 - val_accuracy: 0.9832\n",
            "Epoch 82/500\n",
            "375/375 [==============================] - 8s 20ms/step - loss: 0.0071 - accuracy: 0.9986 - val_loss: 0.2892 - val_accuracy: 0.9834\n",
            "Epoch 83/500\n",
            "375/375 [==============================] - 8s 21ms/step - loss: 0.0083 - accuracy: 0.9986 - val_loss: 0.2832 - val_accuracy: 0.9833\n",
            "Epoch 84/500\n",
            "375/375 [==============================] - 8s 20ms/step - loss: 0.0054 - accuracy: 0.9986 - val_loss: 0.2964 - val_accuracy: 0.9832\n",
            "Epoch 85/500\n",
            "375/375 [==============================] - 8s 20ms/step - loss: 0.0056 - accuracy: 0.9989 - val_loss: 0.3074 - val_accuracy: 0.9832\n",
            "Epoch 86/500\n",
            "375/375 [==============================] - 8s 20ms/step - loss: 0.0082 - accuracy: 0.9988 - val_loss: 0.2592 - val_accuracy: 0.9843\n",
            "Epoch 87/500\n",
            "375/375 [==============================] - 8s 20ms/step - loss: 0.0065 - accuracy: 0.9990 - val_loss: 0.2972 - val_accuracy: 0.9832\n",
            "Epoch 88/500\n",
            "375/375 [==============================] - 8s 21ms/step - loss: 0.0054 - accuracy: 0.9990 - val_loss: 0.2803 - val_accuracy: 0.9833\n",
            "Epoch 89/500\n",
            "375/375 [==============================] - 8s 21ms/step - loss: 0.0050 - accuracy: 0.9989 - val_loss: 0.2939 - val_accuracy: 0.9837\n",
            "Epoch 90/500\n",
            "375/375 [==============================] - 7s 20ms/step - loss: 0.0059 - accuracy: 0.9987 - val_loss: 0.2821 - val_accuracy: 0.9837\n",
            "Epoch 91/500\n",
            "375/375 [==============================] - 7s 20ms/step - loss: 0.0063 - accuracy: 0.9988 - val_loss: 0.2913 - val_accuracy: 0.9816\n",
            "Epoch 92/500\n",
            "375/375 [==============================] - 7s 20ms/step - loss: 0.0083 - accuracy: 0.9987 - val_loss: 0.2673 - val_accuracy: 0.9832\n",
            "Epoch 93/500\n",
            "375/375 [==============================] - 7s 20ms/step - loss: 0.0037 - accuracy: 0.9992 - val_loss: 0.2966 - val_accuracy: 0.9834\n",
            "Epoch 94/500\n",
            "375/375 [==============================] - 8s 21ms/step - loss: 0.0065 - accuracy: 0.9989 - val_loss: 0.3081 - val_accuracy: 0.9826\n",
            "Epoch 95/500\n",
            "375/375 [==============================] - 7s 20ms/step - loss: 0.0087 - accuracy: 0.9986 - val_loss: 0.2931 - val_accuracy: 0.9837\n",
            "Epoch 96/500\n",
            "375/375 [==============================] - 8s 21ms/step - loss: 0.0066 - accuracy: 0.9990 - val_loss: 0.2866 - val_accuracy: 0.9831\n",
            "Epoch 97/500\n",
            "375/375 [==============================] - 8s 20ms/step - loss: 0.0052 - accuracy: 0.9989 - val_loss: 0.3238 - val_accuracy: 0.9824\n",
            "Epoch 98/500\n",
            "375/375 [==============================] - 8s 20ms/step - loss: 0.0076 - accuracy: 0.9989 - val_loss: 0.3143 - val_accuracy: 0.9822\n",
            "Epoch 99/500\n",
            "375/375 [==============================] - 7s 20ms/step - loss: 0.0064 - accuracy: 0.9988 - val_loss: 0.3171 - val_accuracy: 0.9835\n",
            "Epoch 100/500\n",
            "375/375 [==============================] - 8s 21ms/step - loss: 0.0048 - accuracy: 0.9992 - val_loss: 0.3492 - val_accuracy: 0.9824\n",
            "Epoch 101/500\n",
            "375/375 [==============================] - 7s 20ms/step - loss: 0.0044 - accuracy: 0.9993 - val_loss: 0.3285 - val_accuracy: 0.9837\n",
            "Epoch 102/500\n",
            "375/375 [==============================] - 8s 20ms/step - loss: 0.0054 - accuracy: 0.9992 - val_loss: 0.3246 - val_accuracy: 0.9831\n",
            "Epoch 103/500\n",
            "375/375 [==============================] - 8s 20ms/step - loss: 0.0057 - accuracy: 0.9990 - val_loss: 0.3375 - val_accuracy: 0.9835\n"
          ]
        }
      ]
    },
    {
      "cell_type": "code",
      "source": [
        "#đánh giá chất lượng của mô hình và vẽ lại\n",
        "score = model.evaluate(x_test,y_test,verbose=0)\n",
        "print('Sai số kiểm tra là: ',score[0])\n",
        "print('Độ chính xác kiểm tra là: ',score[1])\n",
        "#vẽ đồ thị\n",
        "plt.plot(history.history['accuracy'])\n",
        "plt.plot(history.history['val_accuracy'])\n",
        "plt.title('model accuracy')\n",
        "plt.ylabel('accuracy')\n",
        "plt.xlabel('epochs')\n",
        "plt.legend(['train','Validation'])\n",
        "plt.show()"
      ],
      "metadata": {
        "colab": {
          "base_uri": "https://localhost:8080/",
          "height": 330
        },
        "id": "ZOnvDWmSmkxi",
        "outputId": "a7f17e3d-aa42-466d-bc8f-99f4084afc08"
      },
      "execution_count": null,
      "outputs": [
        {
          "output_type": "stream",
          "name": "stdout",
          "text": [
            "Sai số kiểm tra là:  0.291759729385376\n",
            "Độ chính xác kiểm tra là:  0.9828000068664551\n"
          ]
        },
        {
          "output_type": "display_data",
          "data": {
            "text/plain": [
              "<Figure size 432x288 with 1 Axes>"
            ],
            "image/png": "[encoded data removed]"
          },
          "metadata": {
            "needs_background": "light"
          }
        }
      ]
    },
    {
      "cell_type": "code",
      "source": [
        ""
      ],
      "metadata": {
        "id": "0_EV3z0Q0V6N"
      },
      "execution_count": null,
      "outputs": []
    }
  ]
}