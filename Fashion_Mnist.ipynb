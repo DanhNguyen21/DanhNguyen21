{
  "nbformat": 4,
  "nbformat_minor": 0,
  "metadata": {
    "colab": {
      "name": "Fashion_Mnist.ipynb",
      "provenance": [],
      "collapsed_sections": [],
      "include_colab_link": true
    },
    "kernelspec": {
      "name": "python3",
      "display_name": "Python 3"
    },
    "language_info": {
      "name": "python"
    }
  },
  "cells": [
    {
      "cell_type": "markdown",
      "metadata": {
        "id": "view-in-github",
        "colab_type": "text"
      },
      "source": [
        "<a href=\"https://colab.research.google.com/github/DanhNguyen21/DanhNguyen21/blob/main/Fashion_Mnist.ipynb\" target=\"_parent\"><img src=\"https://colab.research.google.com/assets/colab-badge.svg\" alt=\"Open In Colab\"/></a>"
      ]
    },
    {
      "cell_type": "code",
      "execution_count": 1,
      "metadata": {
        "id": "rd1rnIcEmvyy"
      },
      "outputs": [],
      "source": [
        "#import thư viện\n",
        "import numpy as np #thư viện xử lý ma trận\n",
        "from keras.utils import np_utils # thư viện xử lý chuyển class\n",
        "from keras.datasets import fashion_mnist # gọi tập dataset thời trang\n",
        "from keras.models import Sequential # hàm chạy mô hình\n",
        "from keras.layers import Dense, Dropout # tạo mạng nơ ron\n",
        "from tensorflow.keras.optimizers import RMSprop \n",
        "import matplotlib.pyplot as plt  # thư viện dùng để vẽ"
      ]
    },
    {
      "cell_type": "code",
      "source": [
        "# chia tập dữ liệu thành 2 bộ train và test\n",
        "(x_train, y_train),(x_test,y_test) = fashion_mnist.load_data()\n"
      ],
      "metadata": {
        "colab": {
          "base_uri": "https://localhost:8080/"
        },
        "id": "B3GtphU2m0aW",
        "outputId": "e965a3e7-44cc-4116-c501-61c56490389a"
      },
      "execution_count": 2,
      "outputs": [
        {
          "output_type": "stream",
          "name": "stdout",
          "text": [
            "Downloading data from https://storage.googleapis.com/tensorflow/tf-keras-datasets/train-labels-idx1-ubyte.gz\n",
            "32768/29515 [=================================] - 0s 0us/step\n",
            "40960/29515 [=========================================] - 0s 0us/step\n",
            "Downloading data from https://storage.googleapis.com/tensorflow/tf-keras-datasets/train-images-idx3-ubyte.gz\n",
            "26427392/26421880 [==============================] - 0s 0us/step\n",
            "26435584/26421880 [==============================] - 0s 0us/step\n",
            "Downloading data from https://storage.googleapis.com/tensorflow/tf-keras-datasets/t10k-labels-idx1-ubyte.gz\n",
            "16384/5148 [===============================================================================================] - 0s 0us/step\n",
            "Downloading data from https://storage.googleapis.com/tensorflow/tf-keras-datasets/t10k-images-idx3-ubyte.gz\n",
            "4423680/4422102 [==============================] - 0s 0us/step\n",
            "4431872/4422102 [==============================] - 0s 0us/step\n"
          ]
        }
      ]
    },
    {
      "cell_type": "code",
      "source": [
        "# xem kích thược của tập dữ liệu\n",
        "print('Kích thước x_train: ', x_train.shape)\n",
        "print('Kích thước y_train: ', y_train.shape)\n",
        "print('Kích thước x_test: ', x_test.shape)\n",
        "print('Kích thước y_test: ', y_test.shape)"
      ],
      "metadata": {
        "colab": {
          "base_uri": "https://localhost:8080/"
        },
        "id": "e0Vf-LkPm--q",
        "outputId": "2c0f6c50-1f8c-432a-e585-b78de3246639"
      },
      "execution_count": 3,
      "outputs": [
        {
          "output_type": "stream",
          "name": "stdout",
          "text": [
            "Kích thước x_train:  (60000, 28, 28)\n",
            "Kích thước y_train:  (60000,)\n",
            "Kích thước x_test:  (10000, 28, 28)\n",
            "Kích thước y_test:  (10000,)\n"
          ]
        }
      ]
    },
    {
      "cell_type": "code",
      "source": [
        "#chuyển chiều của x từ 3 chiều về 2 chiều\n",
        "x_train = x_train.reshape(60000,784)\n",
        "x_test = x_test.reshape(10000,784)\n",
        "# ép kiểu\n",
        "x_train = x_train.astype('float32')\n",
        "x_test = x_test.astype('float32')\n",
        "#chuẩn hóa dữ liệu\n",
        "x_train /=255\n",
        "x_test /=255\n",
        "#chuyển y từ 1 class thành 10 class\n",
        "y_train = np_utils.to_categorical(y_train,10)\n",
        "y_test = np_utils.to_categorical(y_test,10)"
      ],
      "metadata": {
        "id": "20htAt23nDtR"
      },
      "execution_count": 4,
      "outputs": []
    },
    {
      "cell_type": "code",
      "source": [
        "#tạo mạng nơ-ron\n",
        "model = Sequential()\n",
        "model.add(Dense(512,activation='relu',input_shape=(784,)))\n",
        "model.add(Dropout(0.2))\n",
        "model.add(Dense(512,activation='relu'))\n",
        "model.add(Dropout(0.2))\n",
        "model.add(Dense(10,activation='softmax'))\n",
        "model.summary()"
      ],
      "metadata": {
        "colab": {
          "base_uri": "https://localhost:8080/"
        },
        "id": "4KvwWCepnFLj",
        "outputId": "630fa9f3-31c5-4619-bd03-1470f76989bb"
      },
      "execution_count": 5,
      "outputs": [
        {
          "output_type": "stream",
          "name": "stdout",
          "text": [
            "Model: \"sequential\"\n",
            "_________________________________________________________________\n",
            " Layer (type)                Output Shape              Param #   \n",
            "=================================================================\n",
            " dense (Dense)               (None, 512)               401920    \n",
            "                                                                 \n",
            " dropout (Dropout)           (None, 512)               0         \n",
            "                                                                 \n",
            " dense_1 (Dense)             (None, 512)               262656    \n",
            "                                                                 \n",
            " dropout_1 (Dropout)         (None, 512)               0         \n",
            "                                                                 \n",
            " dense_2 (Dense)             (None, 10)                5130      \n",
            "                                                                 \n",
            "=================================================================\n",
            "Total params: 669,706\n",
            "Trainable params: 669,706\n",
            "Non-trainable params: 0\n",
            "_________________________________________________________________\n"
          ]
        }
      ]
    },
    {
      "cell_type": "code",
      "source": [
        "#chạy model với số lần học là 500 và độ kiên nhẫn là 100\n",
        "model.compile(loss='categorical_crossentropy',optimizer=RMSprop(), metrics=['accuracy'])\n",
        "model.compile(loss='categorical_crossentropy',optimizer=RMSprop(), metrics=['accuracy'])\n",
        "from keras.callbacks import EarlyStopping\n",
        "history = model.fit(x_train,y_train,batch_size=128,epochs=500,verbose=1,\n",
        "                    validation_split=0.2,callbacks=[EarlyStopping(monitor='val_loss',patience=100)])"
      ],
      "metadata": {
        "colab": {
          "base_uri": "https://localhost:8080/"
        },
        "id": "7pXZUrAbnHNY",
        "outputId": "7a7f01e8-42ec-4d58-a521-097d22f703fe"
      },
      "execution_count": 6,
      "outputs": [
        {
          "output_type": "stream",
          "name": "stdout",
          "text": [
            "Epoch 1/500\n",
            "375/375 [==============================] - 11s 26ms/step - loss: 0.5895 - accuracy: 0.7858 - val_loss: 0.5190 - val_accuracy: 0.8188\n",
            "Epoch 2/500\n",
            "375/375 [==============================] - 7s 20ms/step - loss: 0.4158 - accuracy: 0.8467 - val_loss: 0.3692 - val_accuracy: 0.8668\n",
            "Epoch 3/500\n",
            "375/375 [==============================] - 7s 20ms/step - loss: 0.3756 - accuracy: 0.8632 - val_loss: 0.3550 - val_accuracy: 0.8707\n",
            "Epoch 4/500\n",
            "375/375 [==============================] - 8s 20ms/step - loss: 0.3531 - accuracy: 0.8706 - val_loss: 0.3762 - val_accuracy: 0.8687\n",
            "Epoch 5/500\n",
            "375/375 [==============================] - 8s 20ms/step - loss: 0.3386 - accuracy: 0.8766 - val_loss: 0.3508 - val_accuracy: 0.8789\n",
            "Epoch 6/500\n",
            "375/375 [==============================] - 7s 20ms/step - loss: 0.3244 - accuracy: 0.8815 - val_loss: 0.3526 - val_accuracy: 0.8809\n",
            "Epoch 7/500\n",
            "375/375 [==============================] - 8s 20ms/step - loss: 0.3183 - accuracy: 0.8842 - val_loss: 0.3579 - val_accuracy: 0.8775\n",
            "Epoch 8/500\n",
            "375/375 [==============================] - 8s 20ms/step - loss: 0.3090 - accuracy: 0.8878 - val_loss: 0.3312 - val_accuracy: 0.8854\n",
            "Epoch 9/500\n",
            "375/375 [==============================] - 8s 20ms/step - loss: 0.3022 - accuracy: 0.8905 - val_loss: 0.3577 - val_accuracy: 0.8823\n",
            "Epoch 10/500\n",
            "375/375 [==============================] - 7s 20ms/step - loss: 0.2976 - accuracy: 0.8942 - val_loss: 0.3546 - val_accuracy: 0.8873\n",
            "Epoch 11/500\n",
            "375/375 [==============================] - 8s 21ms/step - loss: 0.2966 - accuracy: 0.8935 - val_loss: 0.3533 - val_accuracy: 0.8862\n",
            "Epoch 12/500\n",
            "375/375 [==============================] - 8s 20ms/step - loss: 0.2862 - accuracy: 0.8969 - val_loss: 0.3684 - val_accuracy: 0.8817\n",
            "Epoch 13/500\n",
            "375/375 [==============================] - 8s 20ms/step - loss: 0.2847 - accuracy: 0.8996 - val_loss: 0.3423 - val_accuracy: 0.8903\n",
            "Epoch 14/500\n",
            "375/375 [==============================] - 9s 25ms/step - loss: 0.2778 - accuracy: 0.8997 - val_loss: 0.3676 - val_accuracy: 0.8842\n",
            "Epoch 15/500\n",
            "375/375 [==============================] - 8s 21ms/step - loss: 0.2768 - accuracy: 0.9013 - val_loss: 0.3824 - val_accuracy: 0.8857\n",
            "Epoch 16/500\n",
            "375/375 [==============================] - 8s 21ms/step - loss: 0.2735 - accuracy: 0.9021 - val_loss: 0.3578 - val_accuracy: 0.8937\n",
            "Epoch 17/500\n",
            "375/375 [==============================] - 9s 23ms/step - loss: 0.2714 - accuracy: 0.9035 - val_loss: 0.3828 - val_accuracy: 0.8909\n",
            "Epoch 18/500\n",
            "375/375 [==============================] - 8s 22ms/step - loss: 0.2652 - accuracy: 0.9055 - val_loss: 0.3794 - val_accuracy: 0.8945\n",
            "Epoch 19/500\n",
            "375/375 [==============================] - 8s 21ms/step - loss: 0.2622 - accuracy: 0.9058 - val_loss: 0.3948 - val_accuracy: 0.8896\n",
            "Epoch 20/500\n",
            "375/375 [==============================] - 7s 19ms/step - loss: 0.2614 - accuracy: 0.9057 - val_loss: 0.4111 - val_accuracy: 0.8892\n",
            "Epoch 21/500\n",
            "375/375 [==============================] - 8s 20ms/step - loss: 0.2596 - accuracy: 0.9078 - val_loss: 0.3922 - val_accuracy: 0.8874\n",
            "Epoch 22/500\n",
            "375/375 [==============================] - 8s 21ms/step - loss: 0.2588 - accuracy: 0.9097 - val_loss: 0.4222 - val_accuracy: 0.8853\n",
            "Epoch 23/500\n",
            "375/375 [==============================] - 8s 20ms/step - loss: 0.2523 - accuracy: 0.9117 - val_loss: 0.4111 - val_accuracy: 0.8934\n",
            "Epoch 24/500\n",
            "375/375 [==============================] - 8s 20ms/step - loss: 0.2478 - accuracy: 0.9116 - val_loss: 0.4539 - val_accuracy: 0.8839\n",
            "Epoch 25/500\n",
            "375/375 [==============================] - 7s 20ms/step - loss: 0.2487 - accuracy: 0.9115 - val_loss: 0.4204 - val_accuracy: 0.8864\n",
            "Epoch 26/500\n",
            "375/375 [==============================] - 8s 21ms/step - loss: 0.2471 - accuracy: 0.9129 - val_loss: 0.4708 - val_accuracy: 0.8898\n",
            "Epoch 27/500\n",
            "375/375 [==============================] - 7s 20ms/step - loss: 0.2439 - accuracy: 0.9153 - val_loss: 0.4629 - val_accuracy: 0.8813\n",
            "Epoch 28/500\n",
            "375/375 [==============================] - 8s 21ms/step - loss: 0.2451 - accuracy: 0.9131 - val_loss: 0.4560 - val_accuracy: 0.8913\n",
            "Epoch 29/500\n",
            "375/375 [==============================] - 8s 21ms/step - loss: 0.2417 - accuracy: 0.9136 - val_loss: 0.4556 - val_accuracy: 0.8938\n",
            "Epoch 30/500\n",
            "375/375 [==============================] - 8s 21ms/step - loss: 0.2420 - accuracy: 0.9156 - val_loss: 0.4815 - val_accuracy: 0.8927\n",
            "Epoch 31/500\n",
            "375/375 [==============================] - 9s 23ms/step - loss: 0.2354 - accuracy: 0.9165 - val_loss: 0.4935 - val_accuracy: 0.8953\n",
            "Epoch 32/500\n",
            "375/375 [==============================] - 8s 21ms/step - loss: 0.2334 - accuracy: 0.9182 - val_loss: 0.4680 - val_accuracy: 0.8912\n",
            "Epoch 33/500\n",
            "375/375 [==============================] - 8s 20ms/step - loss: 0.2345 - accuracy: 0.9201 - val_loss: 0.4904 - val_accuracy: 0.8952\n",
            "Epoch 34/500\n",
            "375/375 [==============================] - 8s 21ms/step - loss: 0.2335 - accuracy: 0.9194 - val_loss: 0.4747 - val_accuracy: 0.8962\n",
            "Epoch 35/500\n",
            "375/375 [==============================] - 8s 20ms/step - loss: 0.2286 - accuracy: 0.9197 - val_loss: 0.4983 - val_accuracy: 0.8915\n",
            "Epoch 36/500\n",
            "375/375 [==============================] - 8s 21ms/step - loss: 0.2326 - accuracy: 0.9209 - val_loss: 0.5297 - val_accuracy: 0.8860\n",
            "Epoch 37/500\n",
            "375/375 [==============================] - 8s 20ms/step - loss: 0.2287 - accuracy: 0.9216 - val_loss: 0.5184 - val_accuracy: 0.8944\n",
            "Epoch 38/500\n",
            "375/375 [==============================] - 8s 21ms/step - loss: 0.2314 - accuracy: 0.9217 - val_loss: 0.5215 - val_accuracy: 0.8931\n",
            "Epoch 39/500\n",
            "375/375 [==============================] - 7s 20ms/step - loss: 0.2265 - accuracy: 0.9221 - val_loss: 0.5085 - val_accuracy: 0.8917\n",
            "Epoch 40/500\n",
            "375/375 [==============================] - 8s 20ms/step - loss: 0.2277 - accuracy: 0.9227 - val_loss: 0.5399 - val_accuracy: 0.8938\n",
            "Epoch 41/500\n",
            "375/375 [==============================] - 8s 20ms/step - loss: 0.2245 - accuracy: 0.9237 - val_loss: 0.5336 - val_accuracy: 0.8878\n",
            "Epoch 42/500\n",
            "375/375 [==============================] - 7s 20ms/step - loss: 0.2247 - accuracy: 0.9242 - val_loss: 0.5291 - val_accuracy: 0.8942\n",
            "Epoch 43/500\n",
            "375/375 [==============================] - 8s 20ms/step - loss: 0.2198 - accuracy: 0.9244 - val_loss: 0.5327 - val_accuracy: 0.8929\n",
            "Epoch 44/500\n",
            "375/375 [==============================] - 8s 21ms/step - loss: 0.2216 - accuracy: 0.9252 - val_loss: 0.5338 - val_accuracy: 0.8884\n",
            "Epoch 45/500\n",
            "375/375 [==============================] - 7s 20ms/step - loss: 0.2185 - accuracy: 0.9256 - val_loss: 0.5502 - val_accuracy: 0.8917\n",
            "Epoch 46/500\n",
            "375/375 [==============================] - 8s 20ms/step - loss: 0.2127 - accuracy: 0.9277 - val_loss: 0.5557 - val_accuracy: 0.8942\n",
            "Epoch 47/500\n",
            "375/375 [==============================] - 8s 20ms/step - loss: 0.2186 - accuracy: 0.9267 - val_loss: 0.6271 - val_accuracy: 0.8816\n",
            "Epoch 48/500\n",
            "375/375 [==============================] - 8s 21ms/step - loss: 0.2126 - accuracy: 0.9267 - val_loss: 0.6034 - val_accuracy: 0.8899\n",
            "Epoch 49/500\n",
            "375/375 [==============================] - 7s 20ms/step - loss: 0.2170 - accuracy: 0.9271 - val_loss: 0.6579 - val_accuracy: 0.8916\n",
            "Epoch 50/500\n",
            "375/375 [==============================] - 7s 20ms/step - loss: 0.2134 - accuracy: 0.9275 - val_loss: 0.6474 - val_accuracy: 0.8917\n",
            "Epoch 51/500\n",
            "375/375 [==============================] - 7s 20ms/step - loss: 0.2078 - accuracy: 0.9298 - val_loss: 0.6052 - val_accuracy: 0.8932\n",
            "Epoch 52/500\n",
            "375/375 [==============================] - 7s 20ms/step - loss: 0.2041 - accuracy: 0.9302 - val_loss: 0.6576 - val_accuracy: 0.8783\n",
            "Epoch 53/500\n",
            "375/375 [==============================] - 7s 20ms/step - loss: 0.2069 - accuracy: 0.9305 - val_loss: 0.6402 - val_accuracy: 0.8882\n",
            "Epoch 54/500\n",
            "375/375 [==============================] - 7s 20ms/step - loss: 0.2099 - accuracy: 0.9298 - val_loss: 0.6076 - val_accuracy: 0.8970\n",
            "Epoch 55/500\n",
            "375/375 [==============================] - 7s 20ms/step - loss: 0.2116 - accuracy: 0.9316 - val_loss: 0.7015 - val_accuracy: 0.8937\n",
            "Epoch 56/500\n",
            "375/375 [==============================] - 8s 20ms/step - loss: 0.2053 - accuracy: 0.9299 - val_loss: 0.5905 - val_accuracy: 0.8944\n",
            "Epoch 57/500\n",
            "375/375 [==============================] - 7s 19ms/step - loss: 0.2066 - accuracy: 0.9323 - val_loss: 0.6940 - val_accuracy: 0.8908\n",
            "Epoch 58/500\n",
            "375/375 [==============================] - 7s 20ms/step - loss: 0.2072 - accuracy: 0.9320 - val_loss: 0.6494 - val_accuracy: 0.8887\n",
            "Epoch 59/500\n",
            "375/375 [==============================] - 8s 21ms/step - loss: 0.1984 - accuracy: 0.9321 - val_loss: 0.7335 - val_accuracy: 0.8888\n",
            "Epoch 60/500\n",
            "375/375 [==============================] - 8s 20ms/step - loss: 0.2045 - accuracy: 0.9326 - val_loss: 0.7090 - val_accuracy: 0.8955\n",
            "Epoch 61/500\n",
            "375/375 [==============================] - 7s 20ms/step - loss: 0.1995 - accuracy: 0.9330 - val_loss: 0.7340 - val_accuracy: 0.8939\n",
            "Epoch 62/500\n",
            "375/375 [==============================] - 8s 20ms/step - loss: 0.2005 - accuracy: 0.9329 - val_loss: 0.7351 - val_accuracy: 0.8929\n",
            "Epoch 63/500\n",
            "375/375 [==============================] - 8s 21ms/step - loss: 0.2009 - accuracy: 0.9347 - val_loss: 0.6982 - val_accuracy: 0.8915\n",
            "Epoch 64/500\n",
            "375/375 [==============================] - 7s 20ms/step - loss: 0.2075 - accuracy: 0.9326 - val_loss: 0.7248 - val_accuracy: 0.8852\n",
            "Epoch 65/500\n",
            "375/375 [==============================] - 7s 20ms/step - loss: 0.1972 - accuracy: 0.9338 - val_loss: 0.7242 - val_accuracy: 0.8928\n",
            "Epoch 66/500\n",
            "375/375 [==============================] - 8s 21ms/step - loss: 0.2002 - accuracy: 0.9347 - val_loss: 0.7236 - val_accuracy: 0.8908\n",
            "Epoch 67/500\n",
            "375/375 [==============================] - 8s 20ms/step - loss: 0.2002 - accuracy: 0.9345 - val_loss: 0.7551 - val_accuracy: 0.8952\n",
            "Epoch 68/500\n",
            "375/375 [==============================] - 8s 21ms/step - loss: 0.2043 - accuracy: 0.9354 - val_loss: 0.7805 - val_accuracy: 0.8949\n",
            "Epoch 69/500\n",
            "375/375 [==============================] - 8s 21ms/step - loss: 0.1969 - accuracy: 0.9344 - val_loss: 0.8098 - val_accuracy: 0.8955\n",
            "Epoch 70/500\n",
            "375/375 [==============================] - 7s 20ms/step - loss: 0.1925 - accuracy: 0.9360 - val_loss: 0.7420 - val_accuracy: 0.8961\n",
            "Epoch 71/500\n",
            "375/375 [==============================] - 8s 21ms/step - loss: 0.1908 - accuracy: 0.9383 - val_loss: 0.8335 - val_accuracy: 0.8898\n",
            "Epoch 72/500\n",
            "375/375 [==============================] - 8s 20ms/step - loss: 0.1979 - accuracy: 0.9368 - val_loss: 0.7754 - val_accuracy: 0.8945\n",
            "Epoch 73/500\n",
            "375/375 [==============================] - 7s 20ms/step - loss: 0.1881 - accuracy: 0.9376 - val_loss: 0.7747 - val_accuracy: 0.8962\n",
            "Epoch 74/500\n",
            "375/375 [==============================] - 8s 20ms/step - loss: 0.1951 - accuracy: 0.9380 - val_loss: 0.7919 - val_accuracy: 0.8931\n",
            "Epoch 75/500\n",
            "375/375 [==============================] - 8s 20ms/step - loss: 0.2016 - accuracy: 0.9360 - val_loss: 0.7113 - val_accuracy: 0.8918\n",
            "Epoch 76/500\n",
            "375/375 [==============================] - 8s 21ms/step - loss: 0.1882 - accuracy: 0.9375 - val_loss: 0.7480 - val_accuracy: 0.8973\n",
            "Epoch 77/500\n",
            "375/375 [==============================] - 8s 21ms/step - loss: 0.1913 - accuracy: 0.9405 - val_loss: 0.7999 - val_accuracy: 0.8935\n",
            "Epoch 78/500\n",
            "375/375 [==============================] - 8s 21ms/step - loss: 0.1903 - accuracy: 0.9393 - val_loss: 0.8928 - val_accuracy: 0.8952\n",
            "Epoch 79/500\n",
            "375/375 [==============================] - 7s 20ms/step - loss: 0.1837 - accuracy: 0.9399 - val_loss: 0.8576 - val_accuracy: 0.8888\n",
            "Epoch 80/500\n",
            "375/375 [==============================] - 7s 20ms/step - loss: 0.1853 - accuracy: 0.9408 - val_loss: 0.8732 - val_accuracy: 0.8942\n",
            "Epoch 81/500\n",
            "375/375 [==============================] - 7s 20ms/step - loss: 0.1922 - accuracy: 0.9387 - val_loss: 0.8193 - val_accuracy: 0.8940\n",
            "Epoch 82/500\n",
            "375/375 [==============================] - 8s 20ms/step - loss: 0.1863 - accuracy: 0.9394 - val_loss: 0.9135 - val_accuracy: 0.8948\n",
            "Epoch 83/500\n",
            "375/375 [==============================] - 7s 20ms/step - loss: 0.1896 - accuracy: 0.9406 - val_loss: 0.9457 - val_accuracy: 0.8883\n",
            "Epoch 84/500\n",
            "375/375 [==============================] - 8s 21ms/step - loss: 0.1868 - accuracy: 0.9405 - val_loss: 0.9030 - val_accuracy: 0.8858\n",
            "Epoch 85/500\n",
            "375/375 [==============================] - 8s 21ms/step - loss: 0.1789 - accuracy: 0.9410 - val_loss: 0.9874 - val_accuracy: 0.8939\n",
            "Epoch 86/500\n",
            "375/375 [==============================] - 8s 22ms/step - loss: 0.1848 - accuracy: 0.9400 - val_loss: 0.8852 - val_accuracy: 0.8856\n",
            "Epoch 87/500\n",
            "375/375 [==============================] - 9s 23ms/step - loss: 0.1837 - accuracy: 0.9413 - val_loss: 0.9253 - val_accuracy: 0.8923\n",
            "Epoch 88/500\n",
            "375/375 [==============================] - 9s 23ms/step - loss: 0.1856 - accuracy: 0.9407 - val_loss: 0.9057 - val_accuracy: 0.8937\n",
            "Epoch 89/500\n",
            "375/375 [==============================] - 8s 21ms/step - loss: 0.1840 - accuracy: 0.9424 - val_loss: 1.0166 - val_accuracy: 0.8923\n",
            "Epoch 90/500\n",
            "375/375 [==============================] - 7s 20ms/step - loss: 0.1879 - accuracy: 0.9408 - val_loss: 0.9758 - val_accuracy: 0.8947\n",
            "Epoch 91/500\n",
            "375/375 [==============================] - 8s 20ms/step - loss: 0.1804 - accuracy: 0.9433 - val_loss: 0.9040 - val_accuracy: 0.8923\n",
            "Epoch 92/500\n",
            "375/375 [==============================] - 8s 20ms/step - loss: 0.1840 - accuracy: 0.9432 - val_loss: 0.9339 - val_accuracy: 0.8847\n",
            "Epoch 93/500\n",
            "375/375 [==============================] - 8s 21ms/step - loss: 0.1821 - accuracy: 0.9426 - val_loss: 0.9312 - val_accuracy: 0.8934\n",
            "Epoch 94/500\n",
            "375/375 [==============================] - 8s 21ms/step - loss: 0.1790 - accuracy: 0.9435 - val_loss: 0.9853 - val_accuracy: 0.8892\n",
            "Epoch 95/500\n",
            "375/375 [==============================] - 8s 20ms/step - loss: 0.1840 - accuracy: 0.9426 - val_loss: 0.9871 - val_accuracy: 0.8925\n",
            "Epoch 96/500\n",
            "375/375 [==============================] - 7s 19ms/step - loss: 0.1939 - accuracy: 0.9434 - val_loss: 0.9586 - val_accuracy: 0.8949\n",
            "Epoch 97/500\n",
            "375/375 [==============================] - 8s 20ms/step - loss: 0.1786 - accuracy: 0.9448 - val_loss: 0.9846 - val_accuracy: 0.8947\n",
            "Epoch 98/500\n",
            "375/375 [==============================] - 8s 21ms/step - loss: 0.1784 - accuracy: 0.9449 - val_loss: 0.9461 - val_accuracy: 0.8935\n",
            "Epoch 99/500\n",
            "375/375 [==============================] - 8s 20ms/step - loss: 0.1780 - accuracy: 0.9452 - val_loss: 0.9673 - val_accuracy: 0.8942\n",
            "Epoch 100/500\n",
            "375/375 [==============================] - 7s 20ms/step - loss: 0.1761 - accuracy: 0.9452 - val_loss: 0.9912 - val_accuracy: 0.8942\n",
            "Epoch 101/500\n",
            "375/375 [==============================] - 7s 20ms/step - loss: 0.1727 - accuracy: 0.9464 - val_loss: 0.9356 - val_accuracy: 0.8974\n",
            "Epoch 102/500\n",
            "375/375 [==============================] - 8s 20ms/step - loss: 0.1746 - accuracy: 0.9439 - val_loss: 0.9956 - val_accuracy: 0.8927\n",
            "Epoch 103/500\n",
            "375/375 [==============================] - 7s 19ms/step - loss: 0.1771 - accuracy: 0.9453 - val_loss: 1.0547 - val_accuracy: 0.8958\n",
            "Epoch 104/500\n",
            "375/375 [==============================] - 8s 20ms/step - loss: 0.1772 - accuracy: 0.9451 - val_loss: 0.9005 - val_accuracy: 0.8905\n",
            "Epoch 105/500\n",
            "375/375 [==============================] - 8s 20ms/step - loss: 0.1774 - accuracy: 0.9458 - val_loss: 1.0794 - val_accuracy: 0.8989\n",
            "Epoch 106/500\n",
            "375/375 [==============================] - 8s 22ms/step - loss: 0.1770 - accuracy: 0.9452 - val_loss: 0.9907 - val_accuracy: 0.8945\n",
            "Epoch 107/500\n",
            "375/375 [==============================] - 8s 21ms/step - loss: 0.1744 - accuracy: 0.9454 - val_loss: 1.0192 - val_accuracy: 0.8968\n",
            "Epoch 108/500\n",
            "375/375 [==============================] - 7s 20ms/step - loss: 0.1662 - accuracy: 0.9473 - val_loss: 1.0225 - val_accuracy: 0.8927\n"
          ]
        }
      ]
    },
    {
      "cell_type": "code",
      "source": [
        "#đánh giá chất lượng của mô hình và vẽ lại\n",
        "score = model.evaluate(x_test,y_test,verbose=0)\n",
        "print('Sai số kiểm tra là: ',score[0])\n",
        "print('Độ chính xác kiểm tra là: ',score[1])\n",
        "#vẽ đồ thị\n",
        "plt.plot(history.history['accuracy'])\n",
        "plt.plot(history.history['val_accuracy'])\n",
        "plt.title('model accuracy')\n",
        "plt.ylabel('accuracy')\n",
        "plt.xlabel('epochs')\n",
        "plt.legend(['train','Validation'])\n",
        "plt.show()"
      ],
      "metadata": {
        "colab": {
          "base_uri": "https://localhost:8080/",
          "height": 330
        },
        "id": "vTUGmu-dnI0T",
        "outputId": "d26452be-8330-40fe-d598-7b9562626831"
      },
      "execution_count": 7,
      "outputs": [
        {
          "output_type": "stream",
          "name": "stdout",
          "text": [
            "Sai số kiểm tra là:  1.169562578201294\n",
            "Độ chính xác kiểm tra là:  0.8876000046730042\n"
          ]
        },
        {
          "output_type": "display_data",
          "data": {
            "text/plain": [
              "<Figure size 432x288 with 1 Axes>"
            ],
            "image/png": "[encoded data removed]"
          },
          "metadata": {
            "needs_background": "light"
          }
        }
      ]
    }
  ]
}